{
 "cells": [
  {
   "cell_type": "code",
   "execution_count": 1,
   "id": "8f7a9895-ce1f-4a73-8ba1-54235bf5a221",
   "metadata": {},
   "outputs": [
    {
     "data": {
      "text/plain": [
       "{}"
      ]
     },
     "execution_count": 1,
     "metadata": {},
     "output_type": "execute_result"
    }
   ],
   "source": [
    "#empty dict\n",
    "empty_dict = {}\n",
    "empty_dict"
   ]
  },
  {
   "cell_type": "code",
   "execution_count": 5,
   "id": "cff01f56-ba71-44fc-ade8-75f2e2710413",
   "metadata": {},
   "outputs": [
    {
     "data": {
      "text/plain": [
       "{'name': 'pranay', 'age': 22, 'CGPA': 7.5}"
      ]
     },
     "execution_count": 5,
     "metadata": {},
     "output_type": "execute_result"
    }
   ],
   "source": [
    "#mixed_dict\n",
    "student = {\"name\" : \"pranay\",\"age\" : 22,\"CGPA\" : 7.5}\n",
    "student"
   ]
  },
  {
   "cell_type": "code",
   "execution_count": 19,
   "id": "16e10566-d949-4733-ae5b-f7c884d95005",
   "metadata": {},
   "outputs": [
    {
     "name": "stdout",
     "output_type": "stream",
     "text": [
      "{'name': 'pranay', 'age': 21, 'CGPA': 7.5}\n",
      "{'KTM': 'Duke', 'pulsar': 'NS200', 'suzuki': 'ninja'}\n",
      "{'kishore': 98, 'ramesh': 75, 'raju': 95, 'manju': 99}\n",
      "{'kalki': 'prabhas', 'chalo': 'ashwin', 'pushpa': 'alluarjun', 'temper': 'tharak'}\n",
      "{'vaagdevi': 'warangal', 'narayana': 'hyderabad', 'shivani': 'bheemaram'}\n",
      "{'brand': 'Ford', 'model': 'Mustang', 'year': 1970}\n",
      "{'brand': 'BMW', 'electric': 'True', 'year': 1964, 'colors': ['red', 'white', 'blue']}\n",
      "{'kittu': 'chinthal', 'pranay': 'hitech', 'vasu': 'karimnagar', 'gopal': 'warangal'}\n",
      "{'batch1': ['koushik', 'sai', 'sunny'], 'batch2': ['kavya', 'bhavana', 'khyathi'], 'batch3': ['vamsi', 'shashanka', 'divya']}\n",
      "{'room1': 'available', 'room2': 'not available', 'room3': 'available'}\n"
     ]
    }
   ],
   "source": [
    "#Accessing values\n",
    "student = {\"name\" : \"pranay\",\"age\" : 22,\"CGPA\" : 7.5}\n",
    "vechicles = {\"KTM\" : \"Duke\",\"pulsar\" : \"NS160\",\"suzuki\" : \"ninja\"}\n",
    "marks = {\"kishore\" : 98,\"ramesh\" : 23,\"raju\" : 95,\"manju\" : 99}\n",
    "Heros = {\"kalki\" : \"prabhas\",\"chalo\" : \"ashwin\",\"pushpa\" : \"alluarjun\",\"temper\" : \"NTR\"}\n",
    "college_places = {\"vaagdevi\" : \"warangal\",\"narayana\" : \"hyderabad\",\"shivani\" : \"hanamkonda\"}\n",
    "about = {\"brand\": \"Ford\",\"model\": \"Mustang\",\"year\": 1964}\n",
    "car = {\"brand\": \"BMW\",\"electric\": False,\"year\": 1964,\"colors\": [\"red\", \"white\", \"blue\"]}\n",
    "location = {\"kittu\" : \"chinthal\",\"pranay\" : \"hitech\",\"vasu\" : \"durgam\",\"gopal\" : \"warangal\"}\n",
    "batches = {\"batch1\" : [\"ramu\",\"bheemu\",\"gopal\"],\n",
    "           \"batch2\" : [\"kavya\",\"bhavana\",\"khyathi\"],\n",
    "           \"batch3\" : [\"vamsi\",\"shashanka\",\"divya\"]}\n",
    "hostel = {\"room1\" : \"available\",\"room2\" : \"not available\",\"room3\" : \"not specified\"}\n",
    "\n",
    "#1) Modify\n",
    "student[\"age\"] = 21\n",
    "print(student)\n",
    "vechicles[\"pulsar\"] = \"NS200\"\n",
    "print(vechicles)\n",
    "marks[\"ramesh\"] = 75\n",
    "print(marks)\n",
    "Heros[\"temper\"] = \"tharak\"\n",
    "print(Heros)\n",
    "college_places[\"shivani\"] = \"bheemaram\"\n",
    "print(college_places)\n",
    "about[\"year\"] = 1970\n",
    "print(about)\n",
    "car[\"electric\"] = \"True\"\n",
    "print(car)\n",
    "location[\"vasu\"] = \"karimnagar\"\n",
    "print(location)\n",
    "batches[\"batch1\"] = [\"koushik\",\"sai\",\"sunny\"]\n",
    "print(batches)\n",
    "hostel[\"room3\"] = \"available\"\n",
    "print(hostel)"
   ]
  },
  {
   "cell_type": "code",
   "execution_count": 23,
   "id": "4da11780-208c-4c72-ac15-428a076e9e1e",
   "metadata": {},
   "outputs": [
    {
     "name": "stdout",
     "output_type": "stream",
     "text": [
      "{'name': 'pranay', 'age': 22, 'CGPA': 7.5, 'grades': [12, 43, 12]}\n",
      "{'KTM': 'Duke', 'pulsar': 'NS160', 'suzuki': 'ninja', 'cc': 1000}\n",
      "{'kishore': 98, 'ramesh': 23, 'raju': 95, 'manju': 99, 'lokesh': 100}\n",
      "{'kalki': 'prabhas', 'chalo': 'ashwin', 'pushpa': 'alluarjun', 'temper': 'NTR', 'spider': 'mahesh'}\n",
      "{'vaagdevi': 'warangal', 'narayana': 'hyderabad', 'shivani': 'hanamkonda', 'vasavi': 'kukatpally'}\n",
      "{'brand': 'Ford', 'model': 'Mustang', 'year': 1964, 'cc': 1250}\n",
      "{'brand': 'BMW', 'electric': False, 'year': 1964, 'colors': ['red', 'white', 'blue'], 'speed': '300kmph'}\n",
      "{'kittu': 'chinthal', 'pranay': 'hitech', 'vasu': 'durgam', 'gopal': 'warangal', 'aniketh': 'uppal'}\n",
      "{'batch1': ['ramu', 'bheemu', 'gopal'], 'batch2': ['kavya', 'bhavana', 'khyathi'], 'batch3': ['vamsi', 'shashanka', 'divya'], 'batch4': ['abc', 'bcd', 'cde']}\n",
      "{'room1': 'available', 'room2': 'not available', 'room3': 'not specified', 'room4': 'not available'}\n"
     ]
    }
   ],
   "source": [
    "#2) Adding new entry\n",
    "student = {\"name\" : \"pranay\",\"age\" : 22,\"CGPA\" : 7.5}\n",
    "vechicles = {\"KTM\" : \"Duke\",\"pulsar\" : \"NS160\",\"suzuki\" : \"ninja\"}\n",
    "marks = {\"kishore\" : 98,\"ramesh\" : 23,\"raju\" : 95,\"manju\" : 99}\n",
    "Heros = {\"kalki\" : \"prabhas\",\"chalo\" : \"ashwin\",\"pushpa\" : \"alluarjun\",\"temper\" : \"NTR\"}\n",
    "college_places = {\"vaagdevi\" : \"warangal\",\"narayana\" : \"hyderabad\",\"shivani\" : \"hanamkonda\"}\n",
    "about = {\"brand\": \"Ford\",\"model\": \"Mustang\",\"year\": 1964}\n",
    "car = {\"brand\": \"BMW\",\"electric\": False,\"year\": 1964,\"colors\": [\"red\", \"white\", \"blue\"]}\n",
    "location = {\"kittu\" : \"chinthal\",\"pranay\" : \"hitech\",\"vasu\" : \"durgam\",\"gopal\" : \"warangal\"}\n",
    "batches = {\"batch1\" : [\"ramu\",\"bheemu\",\"gopal\"],\n",
    "           \"batch2\" : [\"kavya\",\"bhavana\",\"khyathi\"],\n",
    "           \"batch3\" : [\"vamsi\",\"shashanka\",\"divya\"]}\n",
    "hostel = {\"room1\" : \"available\",\"room2\" : \"not available\",\"room3\" : \"not specified\"}\n",
    "student[\"grades\"] = [12,43,12]\n",
    "print(student)\n",
    "vechicles[\"cc\"] = 1000\n",
    "print(vechicles)\n",
    "marks[\"lokesh\"] = 100\n",
    "print(marks)\n",
    "Heros[\"spider\"] = \"mahesh\"\n",
    "print(Heros)\n",
    "college_places[\"vasavi\"] = \"kukatpally\"\n",
    "print(college_places)\n",
    "about[\"cc\"] = 1250\n",
    "print(about)\n",
    "car[\"speed\"] = \"300kmph\"\n",
    "print(car)\n",
    "location[\"aniketh\"] = \"uppal\"\n",
    "print(location)\n",
    "batches[\"batch4\"] = [\"abc\",\"bcd\",\"cde\"]\n",
    "print(batches)\n",
    "hostel[\"room4\"] = \"not available\"\n",
    "print(hostel)"
   ]
  },
  {
   "cell_type": "code",
   "execution_count": 136,
   "id": "68640814-e30d-40b6-b102-0d4325f2349e",
   "metadata": {},
   "outputs": [
    {
     "name": "stdout",
     "output_type": "stream",
     "text": [
      "7.5\n",
      "ninja\n",
      "95\n",
      "prabhas\n",
      "warangal\n",
      "not specified\n",
      "BMW\n",
      "durgam\n",
      "no value\n",
      "None\n"
     ]
    }
   ],
   "source": [
    "#Dictionaries Methods\n",
    "student = {\"name\" : \"pranay\",\"age\" : 22,\"CGPA\" : 7.5}\n",
    "vechicles = {\"KTM\" : \"Duke\",\"pulsar\" : \"NS160\",\"suzuki\" : \"ninja\"}\n",
    "marks = {\"kishore\" : 98,\"ramesh\" : 23,\"raju\" : 95,\"manju\" : 99}\n",
    "Heros = {\"kalki\" : \"prabhas\",\"chalo\" : \"ashwin\",\"pushpa\" : \"alluarjun\",\"temper\" : \"NTR\"}\n",
    "college_places = {\"vaagdevi\" : \"warangal\",\"narayana\" : \"hyderabad\",\"shivani\" : \"hanamkonda\"}\n",
    "about = {\"brand\": \"Ford\",\"model\": \"Mustang\",\"year\": 1964}\n",
    "car = {\"brand\": \"BMW\",\"electric\": False,\"year\": 1964,\"colors\": [\"red\", \"white\", \"blue\"]}\n",
    "location = {\"kittu\" : \"chinthal\",\"pranay\" : \"hitech\",\"vasu\" : \"durgam\",\"gopal\" : \"warangal\"}\n",
    "batches = {\"batch1\" : [\"ramu\",\"bheemu\",\"gopal\"],\n",
    "           \"batch2\" : [\"kavya\",\"bhavana\",\"khyathi\"],\n",
    "           \"batch3\" : [\"vamsi\",\"shashanka\",\"divya\"]}\n",
    "hostel = {\"room1\" : \"available\",\"room2\" : \"not available\",\"room3\" : \"not specified\"}\n",
    "\n",
    "#1) get()\n",
    "print(student.get(\"CGPA\"))\n",
    "print(vechicles.get(\"suzuki\"))\n",
    "print(marks.get(\"raju\",\"no value\"))\n",
    "print(Heros.get(\"kalki\"))\n",
    "print(college_places.get(\"vaagdevi\"))\n",
    "print(about.get(\"percentage\",\"not specified\"))\n",
    "print(car.get(\"brand\"))\n",
    "print(location.get(\"vasu\"))\n",
    "print(batches.get(\"abc\",\"no value\"))\n",
    "print(hostel.get(\"room5\"))"
   ]
  },
  {
   "cell_type": "code",
   "execution_count": 50,
   "id": "818beace-4a69-4d9b-8b1c-2ce54c45cf9e",
   "metadata": {},
   "outputs": [
    {
     "name": "stdout",
     "output_type": "stream",
     "text": [
      "dict_keys(['name', 'age', 'CGPA'])\n",
      "dict_keys(['KTM', 'pulsar', 'suzuki'])\n",
      "dict_keys(['kishore', 'ramesh', 'raju', 'manju'])\n",
      "dict_keys(['kalki', 'chalo', 'pushpa', 'temper'])\n",
      "dict_keys(['vaagdevi', 'narayana', 'shivani'])\n",
      "dict_keys(['brand', 'model', 'year'])\n",
      "dict_keys(['brand', 'electric', 'year', 'colors'])\n",
      "dict_keys(['kittu', 'pranay', 'vasu', 'gopal'])\n",
      "dict_keys(['batch1', 'batch2', 'batch3'])\n",
      "dict_keys(['room1', 'room2', 'room3'])\n"
     ]
    }
   ],
   "source": [
    "#2) keys() displays all the keys\n",
    "student = {\"name\" : \"pranay\",\"age\" : 22,\"CGPA\" : 7.5}\n",
    "vechicles = {\"KTM\" : \"Duke\",\"pulsar\" : \"NS160\",\"suzuki\" : \"ninja\"}\n",
    "marks = {\"kishore\" : 98,\"ramesh\" : 23,\"raju\" : 95,\"manju\" : 99}\n",
    "Heros = {\"kalki\" : \"prabhas\",\"chalo\" : \"ashwin\",\"pushpa\" : \"alluarjun\",\"temper\" : \"NTR\"}\n",
    "college_places = {\"vaagdevi\" : \"warangal\",\"narayana\" : \"hyderabad\",\"shivani\" : \"hanamkonda\"}\n",
    "about = {\"brand\": \"Ford\",\"model\": \"Mustang\",\"year\": 1964}\n",
    "car = {\"brand\": \"BMW\",\"electric\": False,\"year\": 1964,\"colors\": [\"red\", \"white\", \"blue\"]}\n",
    "location = {\"kittu\" : \"chinthal\",\"pranay\" : \"hitech\",\"vasu\" : \"durgam\",\"gopal\" : \"warangal\"}\n",
    "batches = {\"batch1\" : [\"ramu\",\"bheemu\",\"gopal\"],\n",
    "           \"batch2\" : [\"kavya\",\"bhavana\",\"khyathi\"],\n",
    "           \"batch3\" : [\"vamsi\",\"shashanka\",\"divya\"]}\n",
    "hostel = {\"room1\" : \"available\",\"room2\" : \"not available\",\"room3\" : \"not specified\"}\n",
    "\n",
    "print(student.keys())\n",
    "print(vechicles.keys())\n",
    "print(marks.keys())\n",
    "print(Heros.keys())\n",
    "print(college_places.keys())\n",
    "print(about.keys())\n",
    "print(car.keys())\n",
    "print(location.keys())\n",
    "print(batches.keys())\n",
    "print(hostel.keys())     "
   ]
  },
  {
   "cell_type": "code",
   "execution_count": 56,
   "id": "240896cd-acf5-4c62-a715-1bfb05ba4d3a",
   "metadata": {},
   "outputs": [
    {
     "name": "stdout",
     "output_type": "stream",
     "text": [
      "dict_values(['pranay', 22, 7.5])\n",
      "dict_values(['Duke', 'NS160', 'ninja'])\n",
      "dict_values([98, 23, 95, 99])\n",
      "dict_values(['prabhas', 'ashwin', 'alluarjun', 'NTR'])\n",
      "dict_values(['warangal', 'hyderabad', 'hanamkonda'])\n",
      "dict_values(['Ford', 'Mustang', 1964])\n",
      "dict_values(['BMW', False, 1964, ['red', 'white', 'blue']])\n",
      "dict_values(['chinthal', 'hitech', 'durgam', 'warangal'])\n",
      "dict_values([['ramu', 'bheemu', 'gopal'], ['kavya', 'bhavana', 'khyathi'], ['vamsi', 'shashanka', 'divya']])\n",
      "dict_values(['available', 'not available', 'not specified'])\n"
     ]
    }
   ],
   "source": [
    "#3) values() displays all the values\n",
    "student = {\"name\" : \"pranay\",\"age\" : 22,\"CGPA\" : 7.5}\n",
    "vechicles = {\"KTM\" : \"Duke\",\"pulsar\" : \"NS160\",\"suzuki\" : \"ninja\"}\n",
    "marks = {\"kishore\" : 98,\"ramesh\" : 23,\"raju\" : 95,\"manju\" : 99}\n",
    "Heros = {\"kalki\" : \"prabhas\",\"chalo\" : \"ashwin\",\"pushpa\" : \"alluarjun\",\"temper\" : \"NTR\"}\n",
    "college_places = {\"vaagdevi\" : \"warangal\",\"narayana\" : \"hyderabad\",\"shivani\" : \"hanamkonda\"}\n",
    "about = {\"brand\": \"Ford\",\"model\": \"Mustang\",\"year\": 1964}\n",
    "car = {\"brand\": \"BMW\",\"electric\": False,\"year\": 1964,\"colors\": [\"red\", \"white\", \"blue\"]}\n",
    "location = {\"kittu\" : \"chinthal\",\"pranay\" : \"hitech\",\"vasu\" : \"durgam\",\"gopal\" : \"warangal\"}\n",
    "batches = {\"batch1\" : [\"ramu\",\"bheemu\",\"gopal\"],\n",
    "           \"batch2\" : [\"kavya\",\"bhavana\",\"khyathi\"],\n",
    "           \"batch3\" : [\"vamsi\",\"shashanka\",\"divya\"]}\n",
    "hostel = {\"room1\" : \"available\",\"room2\" : \"not available\",\"room3\" : \"not specified\"}\n",
    "\n",
    "print(student.values())\n",
    "print(vechicles.values())\n",
    "print(marks.values())\n",
    "print(Heros.values())\n",
    "print(college_places.values())\n",
    "print(about.values())\n",
    "print(car.values())\n",
    "print(location.values())\n",
    "print(batches.values())\n",
    "print(hostel.values())"
   ]
  },
  {
   "cell_type": "code",
   "execution_count": 64,
   "id": "1e3bd413-51c4-4388-bf15-93c5312f7fd0",
   "metadata": {},
   "outputs": [
    {
     "name": "stdout",
     "output_type": "stream",
     "text": [
      "dict_items([('name', 'pranay'), ('age', 22), ('CGPA', 7.5)])\n",
      "dict_items([('KTM', 'Duke'), ('pulsar', 'NS160'), ('suzuki', 'ninja')])\n",
      "dict_items([('kishore', 98), ('ramesh', 23), ('raju', 95), ('manju', 99)])\n",
      "dict_items([('kalki', 'prabhas'), ('chalo', 'ashwin'), ('pushpa', 'alluarjun'), ('temper', 'NTR')])\n",
      "dict_items([('vaagdevi', 'warangal'), ('narayana', 'hyderabad'), ('shivani', 'hanamkonda')])\n",
      "dict_items([('brand', 'Ford'), ('model', 'Mustang'), ('year', 1964)])\n",
      "dict_items([('brand', 'BMW'), ('electric', False), ('year', 1964), ('colors', ['red', 'white', 'blue'])])\n",
      "dict_items([('kittu', 'chinthal'), ('pranay', 'hitech'), ('vasu', 'durgam'), ('gopal', 'warangal')])\n",
      "dict_items([('batch1', ['ramu', 'bheemu', 'gopal']), ('batch2', ['kavya', 'bhavana', 'khyathi']), ('batch3', ['vamsi', 'shashanka', 'divya'])])\n",
      "dict_items([('room1', 'available'), ('room2', 'not available'), ('room3', 'not specified')])\n"
     ]
    }
   ],
   "source": [
    "#4) items() displays both th keys and values\n",
    "student = {\"name\" : \"pranay\",\"age\" : 22,\"CGPA\" : 7.5}\n",
    "vechicles = {\"KTM\" : \"Duke\",\"pulsar\" : \"NS160\",\"suzuki\" : \"ninja\"}\n",
    "marks = {\"kishore\" : 98,\"ramesh\" : 23,\"raju\" : 95,\"manju\" : 99}\n",
    "Heros = {\"kalki\" : \"prabhas\",\"chalo\" : \"ashwin\",\"pushpa\" : \"alluarjun\",\"temper\" : \"NTR\"}\n",
    "college_places = {\"vaagdevi\" : \"warangal\",\"narayana\" : \"hyderabad\",\"shivani\" : \"hanamkonda\"}\n",
    "about = {\"brand\": \"Ford\",\"model\": \"Mustang\",\"year\": 1964}\n",
    "car = {\"brand\": \"BMW\",\"electric\": False,\"year\": 1964,\"colors\": [\"red\", \"white\", \"blue\"]}\n",
    "location = {\"kittu\" : \"chinthal\",\"pranay\" : \"hitech\",\"vasu\" : \"durgam\",\"gopal\" : \"warangal\"}\n",
    "batches = {\"batch1\" : [\"ramu\",\"bheemu\",\"gopal\"],\n",
    "           \"batch2\" : [\"kavya\",\"bhavana\",\"khyathi\"],\n",
    "           \"batch3\" : [\"vamsi\",\"shashanka\",\"divya\"]}\n",
    "hostel = {\"room1\" : \"available\",\"room2\" : \"not available\",\"room3\" : \"not specified\"}\n",
    "\n",
    "print(student.items())\n",
    "print(vechicles.items())\n",
    "print(marks.items())\n",
    "print(Heros.items())\n",
    "print(college_places.items())\n",
    "print(about.items())\n",
    "print(car.items())\n",
    "print(location.items())\n",
    "print(batches.items())\n",
    "print(hostel.items())"
   ]
  },
  {
   "cell_type": "code",
   "execution_count": 70,
   "id": "0cad566a-1e46-45ba-9f86-3fbfb06484ae",
   "metadata": {},
   "outputs": [
    {
     "name": "stdout",
     "output_type": "stream",
     "text": [
      "22\n",
      "Duke\n",
      "23\n",
      "alluarjun\n",
      "warangal\n",
      "Mustang\n",
      "['red', 'white', 'blue']\n",
      "warangal\n",
      "['vamsi', 'shashanka', 'divya']\n",
      "not specified\n"
     ]
    }
   ],
   "source": [
    "#5) pop() display the poped key value\n",
    "student = {\"name\" : \"pranay\",\"age\" : 22,\"CGPA\" : 7.5}\n",
    "vechicles = {\"KTM\" : \"Duke\",\"pulsar\" : \"NS160\",\"suzuki\" : \"ninja\"}\n",
    "marks = {\"kishore\" : 98,\"ramesh\" : 23,\"raju\" : 95,\"manju\" : 99}\n",
    "Heros = {\"kalki\" : \"prabhas\",\"chalo\" : \"ashwin\",\"pushpa\" : \"alluarjun\",\"temper\" : \"NTR\"}\n",
    "college_places = {\"vaagdevi\" : \"warangal\",\"narayana\" : \"hyderabad\",\"shivani\" : \"hanamkonda\"}\n",
    "about = {\"brand\": \"Ford\",\"model\": \"Mustang\",\"year\": 1964}\n",
    "car = {\"brand\": \"BMW\",\"electric\": False,\"year\": 1964,\"colors\": [\"red\", \"white\", \"blue\"]}\n",
    "location = {\"kittu\" : \"chinthal\",\"pranay\" : \"hitech\",\"vasu\" : \"durgam\",\"gopal\" : \"warangal\"}\n",
    "batches = {\"batch1\" : [\"ramu\",\"bheemu\",\"gopal\"],\n",
    "           \"batch2\" : [\"kavya\",\"bhavana\",\"khyathi\"],\n",
    "           \"batch3\" : [\"vamsi\",\"shashanka\",\"divya\"]}\n",
    "hostel = {\"room1\" : \"available\",\"room2\" : \"not available\",\"room3\" : \"not specified\"}\n",
    "\n",
    "print(student.pop(\"age\"))\n",
    "print(vechicles.pop(\"KTM\"))\n",
    "print(marks.pop(\"ramesh\"))\n",
    "print(Heros.pop(\"pushpa\"))\n",
    "print(college_places.pop(\"vaagdevi\"))\n",
    "print(about.pop(\"model\"))\n",
    "print(car.pop(\"colors\"))\n",
    "print(location.pop(\"gopal\"))\n",
    "print(batches.pop(\"batch3\"))\n",
    "print(hostel.pop(\"room3\"))\n"
   ]
  },
  {
   "cell_type": "code",
   "execution_count": 76,
   "id": "f307ccea-09cf-4320-acd1-499a40163c88",
   "metadata": {},
   "outputs": [
    {
     "name": "stdout",
     "output_type": "stream",
     "text": [
      "('CGPA', 7.5)\n",
      "('suzuki', 'ninja')\n",
      "('manju', 99)\n",
      "('temper', 'NTR')\n",
      "('shivani', 'hanamkonda')\n",
      "('year', 1964)\n",
      "('colors', ['red', 'white', 'blue'])\n",
      "('gopal', 'warangal')\n",
      "('batch3', ['vamsi', 'shashanka', 'divya'])\n",
      "('room3', 'not specified')\n"
     ]
    }
   ],
   "source": [
    "#6) popitem() displays the last key and value\n",
    "student = {\"name\" : \"pranay\",\"age\" : 22,\"CGPA\" : 7.5}\n",
    "vechicles = {\"KTM\" : \"Duke\",\"pulsar\" : \"NS160\",\"suzuki\" : \"ninja\"}\n",
    "marks = {\"kishore\" : 98,\"ramesh\" : 23,\"raju\" : 95,\"manju\" : 99}\n",
    "Heros = {\"kalki\" : \"prabhas\",\"chalo\" : \"ashwin\",\"pushpa\" : \"alluarjun\",\"temper\" : \"NTR\"}\n",
    "college_places = {\"vaagdevi\" : \"warangal\",\"narayana\" : \"hyderabad\",\"shivani\" : \"hanamkonda\"}\n",
    "about = {\"brand\": \"Ford\",\"model\": \"Mustang\",\"year\": 1964}\n",
    "car = {\"brand\": \"BMW\",\"electric\": False,\"year\": 1964,\"colors\": [\"red\", \"white\", \"blue\"]}\n",
    "location = {\"kittu\" : \"chinthal\",\"pranay\" : \"hitech\",\"vasu\" : \"durgam\",\"gopal\" : \"warangal\"}\n",
    "batches = {\"batch1\" : [\"ramu\",\"bheemu\",\"gopal\"],\n",
    "           \"batch2\" : [\"kavya\",\"bhavana\",\"khyathi\"],\n",
    "           \"batch3\" : [\"vamsi\",\"shashanka\",\"divya\"]}\n",
    "hostel = {\"room1\" : \"available\",\"room2\" : \"not available\",\"room3\" : \"not specified\"}\n",
    "\n",
    "print(student.popitem())\n",
    "print(vechicles.popitem())\n",
    "print(marks.popitem())\n",
    "print(Heros.popitem())\n",
    "print(college_places.popitem())\n",
    "print(about.popitem())\n",
    "print(car.popitem())\n",
    "print(location.popitem())\n",
    "print(batches.popitem())\n",
    "print(hostel.popitem())"
   ]
  },
  {
   "cell_type": "code",
   "execution_count": 130,
   "id": "8321706d-7923-408b-b05c-d188b79034f1",
   "metadata": {},
   "outputs": [
    {
     "name": "stdout",
     "output_type": "stream",
     "text": [
      "{'name': 'pranay', 'age': 22, 'CGPA': 8.0}\n",
      "{'KTM': 'Duke', 'pulsar': 'NS160', 'suzuki': 'kawasaki', 'RC': '390', 'duke': 200}\n",
      "{'kishore': 98, 'ramesh': 23, 'raju': 95, 'manju': 99, 'shashi': 74, 'vasu': 93}\n",
      "{'kalki': 'prabhas', 'chalo': 'ashwin', 'pushpa': 'alluarjun', 'temper': 'NTR', 'shirish': 'abcd', 'bala': 'akanda'}\n",
      "{'vaagdevi': 'warangal', 'narayana': 'hyderabad', 'shivani': 'hanamkonda', 'SR': 'padmakshi', 'saketha': 'ambala'}\n",
      "{'brand': 'Ford', 'model': 'Mustang', 'year': 1964, 'cost': '33crores'}\n",
      "{'brand': 'BMW', 'electric': False, 'year': 1964, 'colors': ['red', 'white', 'blue'], 'place': 'dubai'}\n",
      "{'kittu': 'chinthal', 'pranay': 'hitech', 'vasu': 'durgam', 'gopal': 'warangal', 'mohan': 'mumbai', 'kishore': 'dubai'}\n",
      "{'batch1': ['ramu', 'bheemu', 'gopal'], 'batch2': ['kavya', 'bhavana', 'khyathi'], 'batch3': ['vamsi', 'shashanka', 'divya'], 'batch4': ['abc', 'bcd', 'cde']}\n",
      "{'room1': 'available', 'room2': 'not available', 'room3': 'not specified', 'room4': 'available', 'room5': 'not available'}\n"
     ]
    }
   ],
   "source": [
    "#7) update()\n",
    "student = {\"name\" : \"pranay\",\"age\" : 22,\"CGPA\" : 7.5}\n",
    "vechicles = {\"KTM\" : \"Duke\",\"pulsar\" : \"NS160\",\"suzuki\" : \"ninja\"}\n",
    "marks = {\"kishore\" : 98,\"ramesh\" : 23,\"raju\" : 95,\"manju\" : 99}\n",
    "Heros = {\"kalki\" : \"prabhas\",\"chalo\" : \"ashwin\",\"pushpa\" : \"alluarjun\",\"temper\" : \"NTR\"}\n",
    "college_places = {\"vaagdevi\" : \"warangal\",\"narayana\" : \"hyderabad\",\"shivani\" : \"hanamkonda\"}\n",
    "about = {\"brand\": \"Ford\",\"model\": \"Mustang\",\"year\": 1964}\n",
    "car = {\"brand\": \"BMW\",\"electric\": False,\"year\": 1964,\"colors\": [\"red\", \"white\", \"blue\"]}\n",
    "location = {\"kittu\" : \"chinthal\",\"pranay\" : \"hitech\",\"vasu\" : \"durgam\",\"gopal\" : \"warangal\"}\n",
    "batches = {\"batch1\" : [\"ramu\",\"bheemu\",\"gopal\"],\n",
    "           \"batch2\" : [\"kavya\",\"bhavana\",\"khyathi\"],\n",
    "           \"batch3\" : [\"vamsi\",\"shashanka\",\"divya\"]}\n",
    "hostel = {\"room1\" : \"available\",\"room2\" : \"not available\",\"room3\" : \"not specified\"}\n",
    "\n",
    "new_student = {\"CGPA\" : 8.0}\n",
    "student.update(new_student)\n",
    "print(student)\n",
    "new_vechicles = {\"RC\" : \"390\",\"duke\" : 200,\"suzuki\" : \"kawasaki\"}\n",
    "vechicles.update(new_vechicles)\n",
    "print(vechicles)\n",
    "new_marks = {\"shashi\" : 74,\"vasu\" : 93}\n",
    "marks.update(new_marks)\n",
    "print(marks)\n",
    "new_heros = {\"shirish\" : \"abcd\",\"bala\" : \"akanda\"}\n",
    "Heros.update(new_heros)\n",
    "print(Heros)\n",
    "new_colleges = {\"SR\" : \"padmakshi\",\"saketha\" : \"ambala\"}\n",
    "college_places.update(new_colleges)\n",
    "print(college_places)\n",
    "new_about = {\"cost\" : \"33crores\"}\n",
    "about.update(new_about)\n",
    "print(about)\n",
    "new_car= {\"place\" : \"dubai\"}\n",
    "car.update(new_car)\n",
    "print(car)\n",
    "new_location = {\"mohan\" : \"mumbai\",\"kishore\" : \"dubai\"}\n",
    "location.update(new_location)\n",
    "print(location)\n",
    "new_batch = {\"batch4\" : [\"abc\",\"bcd\",\"cde\"]}\n",
    "batches.update(new_batch)\n",
    "print(batches)\n",
    "new_hostel = {\"room4\" : \"available\",\"room5\" : \"not available\"}\n",
    "hostel.update(new_hostel)\n",
    "print(hostel)"
   ]
  },
  {
   "cell_type": "code",
   "execution_count": 138,
   "id": "73726c79-90fc-474e-9201-a969cc8708e7",
   "metadata": {},
   "outputs": [
    {
     "name": "stdout",
     "output_type": "stream",
     "text": [
      "{'name': 'pranay', 'age': 22}\n",
      "{'KTM': 'Duke', 'suzuki': 'ninja'}\n"
     ]
    }
   ],
   "source": [
    "#8) delete\n",
    "student = {\"name\" : \"pranay\",\"age\" : 22,\"CGPA\" : 7.5}\n",
    "del student[\"CGPA\"]\n",
    "print(student)\n",
    "\n",
    "vechicles = {\"KTM\" : \"Duke\",\"pulsar\" : \"NS160\",\"suzuki\" : \"ninja\"}\n",
    "del vechicles[\"pulsar\"]\n",
    "print(vechicles)"
   ]
  },
  {
   "cell_type": "code",
   "execution_count": 144,
   "id": "4aacc197-b5d1-407e-9757-1cc40686e08a",
   "metadata": {},
   "outputs": [
    {
     "name": "stdout",
     "output_type": "stream",
     "text": [
      "{}\n",
      "{}\n"
     ]
    }
   ],
   "source": [
    "#9) clear()\n",
    "marks = {\"kishore\" : 98,\"ramesh\" : 23,\"raju\" : 95,\"manju\" : 99}\n",
    "marks.clear()\n",
    "print(marks)\n",
    "\n",
    "Heros = {\"kalki\" : \"prabhas\",\"chalo\" : \"ashwin\",\"pushpa\" : \"alluarjun\",\"temper\" : \"NTR\"}\n",
    "Heros.clear()\n",
    "print(Heros)"
   ]
  },
  {
   "cell_type": "code",
   "execution_count": 152,
   "id": "f5d3669d-8522-47bc-b182-bdc126a1ab74",
   "metadata": {},
   "outputs": [
    {
     "name": "stdout",
     "output_type": "stream",
     "text": [
      "{'vaagdevi': 'warangal', 'narayana': 'hyderabad', 'shivani': 'hanamkonda'}\n",
      "{'brand': 'Ford', 'model': 'Mustang', 'year': 1964}\n",
      "{'vaagdevi': 'warangal', 'narayana': 'hyderabad', 'shivani': 'hanamkonda'}\n",
      "{'brand': 'Ford', 'model': 'Mustang', 'year': 1964}\n"
     ]
    }
   ],
   "source": [
    "#10) copy()\n",
    "college_places = {\"vaagdevi\" : \"warangal\",\"narayana\" : \"hyderabad\",\"shivani\" : \"hanamkonda\"}\n",
    "new_college = college_places.copy()\n",
    "print(new_college)\n",
    "\n",
    "about = {\"brand\": \"Ford\",\"model\": \"Mustang\",\"year\": 1964}\n",
    "new_about = about.copy()\n",
    "print(new_about)\n",
    "\n",
    "#11) Using dict() we can also copy\n",
    "college_places = {\"vaagdevi\" : \"warangal\",\"narayana\" : \"hyderabad\",\"shivani\" : \"hanamkonda\"}\n",
    "new_college = dict(college_places)\n",
    "print(new_college)\n",
    "\n",
    "about = {\"brand\": \"Ford\",\"model\": \"Mustang\",\"year\": 1964}\n",
    "new_about = dict(about)\n",
    "print(new_about)"
   ]
  },
  {
   "cell_type": "code",
   "execution_count": 154,
   "id": "f0977ea2-4126-4720-9046-759b944c53f5",
   "metadata": {},
   "outputs": [
    {
     "name": "stdout",
     "output_type": "stream",
     "text": [
      "{'rahul': 20, 'ramesh': 20, 'suresh': 20}\n"
     ]
    }
   ],
   "source": [
    "#11) fromkeys() Create a dictionary with 3 keys, all with the value 20:\n",
    "marks = {\"rahul\",\"suresh\",\"ramesh\"}\n",
    "values = 20\n",
    "marks_values = dict.fromkeys(marks,values)\n",
    "print(marks_values)"
   ]
  },
  {
   "cell_type": "code",
   "execution_count": 162,
   "id": "af566d25-c82f-4527-9818-dc9864ea3609",
   "metadata": {},
   "outputs": [
    {
     "name": "stdout",
     "output_type": "stream",
     "text": [
      "Mustang\n",
      "white\n"
     ]
    }
   ],
   "source": [
    "#12) setdefault() The setdefault() method returns the value of the item with the specified key.\n",
    "##If the key does not exist, insert the key, with the specified value\n",
    "car = {\"brand\": \"Ford\",\"model\": \"Mustang\",\"year\": 1964}\n",
    "x = car.setdefault(\"model\", \"Bronco\")\n",
    "print(x)\n",
    "\n",
    "car = {\"brand\": \"Ford\",\"model\": \"Mustang\",\"year\": 1964}\n",
    "x = car.setdefault(\"color\", \"white\")\n",
    "print(x)"
   ]
  },
  {
   "cell_type": "code",
   "execution_count": null,
   "id": "ea59a6da-4f02-4ee6-9776-c3687c834428",
   "metadata": {},
   "outputs": [],
   "source": []
  }
 ],
 "metadata": {
  "kernelspec": {
   "display_name": "Python 3 (ipykernel)",
   "language": "python",
   "name": "python3"
  },
  "language_info": {
   "codemirror_mode": {
    "name": "ipython",
    "version": 3
   },
   "file_extension": ".py",
   "mimetype": "text/x-python",
   "name": "python",
   "nbconvert_exporter": "python",
   "pygments_lexer": "ipython3",
   "version": "3.12.4"
  }
 },
 "nbformat": 4,
 "nbformat_minor": 5
}
