{
 "cells": [
  {
   "cell_type": "code",
   "execution_count": 9,
   "id": "071a0a96-c767-45a6-a0d9-bc0bdd10d6b7",
   "metadata": {},
   "outputs": [
    {
     "name": "stdout",
     "output_type": "stream",
     "text": [
      "mango banana grapes\n"
     ]
    }
   ],
   "source": [
    "#multi to multi and one to multi\n",
    "a,b,c = \"mango\",\"banana\",\"grapes\"\n",
    "print(a,b,c)"
   ]
  },
  {
   "cell_type": "code",
   "execution_count": 3,
   "id": "2d1c0098-5d22-4308-a075-0770c6f8e105",
   "metadata": {},
   "outputs": [
    {
     "name": "stdout",
     "output_type": "stream",
     "text": [
      "apple\n"
     ]
    }
   ],
   "source": [
    "fruit1=fruit2=fruit3 = \"apple\"\n",
    "print(fruit3)"
   ]
  },
  {
   "cell_type": "code",
   "execution_count": 5,
   "id": "34ec3f99-af76-4e45-adce-e6617eb6c9f2",
   "metadata": {},
   "outputs": [
    {
     "name": "stdout",
     "output_type": "stream",
     "text": [
      "('lokesh', 'kittu', 'pranay')\n"
     ]
    }
   ],
   "source": [
    "friends = \"lokesh\",\"kittu\",\"pranay\"\n",
    "print(friends)"
   ]
  },
  {
   "cell_type": "code",
   "execution_count": 11,
   "id": "4f6ef5cf-5528-40da-92d5-df97f0ddb548",
   "metadata": {},
   "outputs": [
    {
     "name": "stdout",
     "output_type": "stream",
     "text": [
      "car\n",
      "bike\n",
      "jeep\n"
     ]
    }
   ],
   "source": [
    "x,y,z = \"car\",\"bike\",\"jeep\"\n",
    "print(x)\n",
    "print(y)\n",
    "print(z)"
   ]
  },
  {
   "cell_type": "code",
   "execution_count": 15,
   "id": "18c7cb31-afa5-4b94-a8cc-f066ee80a812",
   "metadata": {},
   "outputs": [
    {
     "name": "stdout",
     "output_type": "stream",
     "text": [
      "languages\n"
     ]
    }
   ],
   "source": [
    "english=telugu=hindi = \"languages\"\n",
    "print(telugu)"
   ]
  },
  {
   "cell_type": "code",
   "execution_count": 17,
   "id": "5b0b2c04-f5b2-4c96-a82e-34c46c40e1be",
   "metadata": {},
   "outputs": [
    {
     "name": "stdout",
     "output_type": "stream",
     "text": [
      "superb\n"
     ]
    }
   ],
   "source": [
    "vamsi=python = \"superb\"\n",
    "print(vamsi)"
   ]
  },
  {
   "cell_type": "code",
   "execution_count": 19,
   "id": "121197c3-fbf6-4d72-afdb-6c089be4f35b",
   "metadata": {},
   "outputs": [
    {
     "name": "stdout",
     "output_type": "stream",
     "text": [
      "suresh\n",
      "koushik\n",
      "ramesh\n"
     ]
    }
   ],
   "source": [
    "home1,home2,home3 = \"ramesh\",\"suresh\",\"koushik\"\n",
    "print(home2)\n",
    "print(home3)\n",
    "print(home1)"
   ]
  },
  {
   "cell_type": "code",
   "execution_count": 3,
   "id": "7f7c5f8f-0252-4dd2-9c0f-a8ed2bf6a7ea",
   "metadata": {},
   "outputs": [
    {
     "name": "stdout",
     "output_type": "stream",
     "text": [
      "monday tuesday wednesday\n"
     ]
    }
   ],
   "source": [
    "day1,day2,day3 = \"monday\",\"tuesday\",\"wednesday\"\n",
    "print(day1,day2,day3)"
   ]
  },
  {
   "cell_type": "code",
   "execution_count": 5,
   "id": "9e2eda69-bcf5-4392-a085-8ce74a68cd9c",
   "metadata": {},
   "outputs": [
    {
     "name": "stdout",
     "output_type": "stream",
     "text": [
      "lokesh lokesh lokesh\n"
     ]
    }
   ],
   "source": [
    "short=tall=average = \"lokesh\"\n",
    "print(short,tall,average)"
   ]
  },
  {
   "cell_type": "code",
   "execution_count": null,
   "id": "e9876019-e8f2-4886-9c80-87502629db6b",
   "metadata": {},
   "outputs": [],
   "source": []
  }
 ],
 "metadata": {
  "kernelspec": {
   "display_name": "Python 3 (ipykernel)",
   "language": "python",
   "name": "python3"
  },
  "language_info": {
   "codemirror_mode": {
    "name": "ipython",
    "version": 3
   },
   "file_extension": ".py",
   "mimetype": "text/x-python",
   "name": "python",
   "nbconvert_exporter": "python",
   "pygments_lexer": "ipython3",
   "version": "3.12.4"
  }
 },
 "nbformat": 4,
 "nbformat_minor": 5
}
