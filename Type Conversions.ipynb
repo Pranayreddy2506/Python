{
 "cells": [
  {
   "cell_type": "code",
   "execution_count": 30,
   "id": "1fe3e7ed-cb59-4384-b950-76ef23945142",
   "metadata": {},
   "outputs": [
    {
     "name": "stdout",
     "output_type": "stream",
     "text": [
      "<class 'int'>\n",
      "<class 'float'>\n",
      "<class 'complex'>\n"
     ]
    }
   ],
   "source": [
    "a = 10\n",
    "b = 4.23\n",
    "c = 9j\n",
    "print(type(a))\n",
    "print(type(b))\n",
    "print(type(c))"
   ]
  },
  {
   "cell_type": "code",
   "execution_count": 38,
   "id": "e447ab65-6265-4673-b825-a55b1d49efaa",
   "metadata": {},
   "outputs": [
    {
     "name": "stdout",
     "output_type": "stream",
     "text": [
      "10.0\n",
      "15.0\n",
      "20.0\n",
      "25.0\n",
      "30.0\n",
      "(10+0j)\n",
      "(15+0j)\n",
      "(20+0j)\n",
      "(25+0j)\n",
      "(30+0j)\n"
     ]
    }
   ],
   "source": [
    "#integers\n",
    "a = 10\n",
    "b = 15\n",
    "c = 20\n",
    "d = 25\n",
    "e = 30\n",
    "#from int to float\n",
    "a_intF = float(a)\n",
    "b_intF = float(b)\n",
    "c_intF = float(c)\n",
    "d_intF = float(d)\n",
    "e_intF = float(e)\n",
    "print(a_intF)\n",
    "print(b_intF)\n",
    "print(c_intF)\n",
    "print(d_intF)\n",
    "print(e_intF)\n",
    "#from int to complex\n",
    "a_intC = complex(a)\n",
    "b_intC = complex(b)\n",
    "c_intC = complex(c)\n",
    "d_intC = complex(d)\n",
    "e_intC = complex(e)\n",
    "print(a_intC)\n",
    "print(b_intC)\n",
    "print(c_intC)\n",
    "print(d_intC)\n",
    "print(e_intC)"
   ]
  },
  {
   "cell_type": "code",
   "execution_count": 40,
   "id": "b8e41df6-e922-41a3-b715-f84a416f4409",
   "metadata": {},
   "outputs": [
    {
     "name": "stdout",
     "output_type": "stream",
     "text": [
      "10\n",
      "15\n",
      "20\n",
      "25\n",
      "30\n",
      "(10.11+0j)\n",
      "(15.22+0j)\n",
      "(20.33+0j)\n",
      "(25.44+0j)\n",
      "(30.55+0j)\n"
     ]
    }
   ],
   "source": [
    "#floats\n",
    "a1 = 10.11\n",
    "b1 = 15.22\n",
    "c1 = 20.33\n",
    "d1 = 25.44\n",
    "e1 = 30.55\n",
    "#from float to int\n",
    "a1_FI = int(a1)\n",
    "b1_FI = int(b1)\n",
    "c1_FI = int(c1)\n",
    "d1_FI = int(d1)\n",
    "e1_FI = int(e1)\n",
    "print(a1_FI)\n",
    "print(b1_FI)\n",
    "print(c1_FI)\n",
    "print(d1_FI)\n",
    "print(e1_FI)\n",
    "#from float to complex\n",
    "a1_FC = complex(a1)\n",
    "b1_FC = complex(b1)\n",
    "c1_FC = complex(c1)\n",
    "d1_FC = complex(d1)\n",
    "e1_FC = complex(e1)\n",
    "print(a1_FC)\n",
    "print(b1_FC)\n",
    "print(c1_FC)\n",
    "print(d1_FC)\n",
    "print(e1_FC)\n",
    "\n",
    "\n"
   ]
  },
  {
   "cell_type": "code",
   "execution_count": 51,
   "id": "4dd91565-32de-483d-b96b-3660ec7727e7",
   "metadata": {},
   "outputs": [
    {
     "ename": "TypeError",
     "evalue": "int() argument must be a string, a bytes-like object or a real number, not 'complex'",
     "output_type": "error",
     "traceback": [
      "\u001b[1;31m---------------------------------------------------------------------------\u001b[0m",
      "\u001b[1;31mTypeError\u001b[0m                                 Traceback (most recent call last)",
      "Cell \u001b[1;32mIn[51], line 8\u001b[0m\n\u001b[0;32m      6\u001b[0m e2 \u001b[38;5;241m=\u001b[39m \u001b[38;5;241m5\u001b[39m \u001b[38;5;241m+\u001b[39m \u001b[38;5;241m2\u001b[39mj\n\u001b[0;32m      7\u001b[0m \u001b[38;5;66;03m#from complex to int\u001b[39;00m\n\u001b[1;32m----> 8\u001b[0m a2_CIb2_CI \u001b[38;5;241m=\u001b[39m \u001b[38;5;28mint\u001b[39m(a2)\n\u001b[0;32m      9\u001b[0m b2_CI \u001b[38;5;241m=\u001b[39m \u001b[38;5;28mint\u001b[39m(b2)\n\u001b[0;32m     10\u001b[0m c2_CI \u001b[38;5;241m=\u001b[39m \u001b[38;5;28mint\u001b[39m(c2)\n",
      "\u001b[1;31mTypeError\u001b[0m: int() argument must be a string, a bytes-like object or a real number, not 'complex'"
     ]
    }
   ],
   "source": [
    "#complex\n",
    "a2 = 2j\n",
    "b2 = 1 + 5j\n",
    "c2 = 5 + 3j\n",
    "d2 = 7 + 4j\n",
    "e2 = 5 + 2j\n",
    "#from complex to int\n",
    "a2_CIb2_CI = int(a2)\n",
    "b2_CI = int(b2)\n",
    "c2_CI = int(c2)\n",
    "d2_CI = int(d2)\n",
    "e2_CI = int(e2)\n",
    "print(a2_CI)\n",
    "print(b2_CI)\n",
    "print(c2_CI)\n",
    "print(d2_CI)\n",
    "print(e2_CI)\n",
    "#from complex to float\n",
    "a2_CF = float(a2)\n",
    "print(a2_CF)"
   ]
  },
  {
   "cell_type": "code",
   "execution_count": null,
   "id": "cf688eed-97bb-4100-ae32-19b6d3dbe6c9",
   "metadata": {},
   "outputs": [],
   "source": []
  },
  {
   "cell_type": "code",
   "execution_count": null,
   "id": "c0f9a242-3092-48cd-ba6f-ee4759fbec26",
   "metadata": {},
   "outputs": [],
   "source": []
  },
  {
   "cell_type": "code",
   "execution_count": null,
   "id": "ba3f0fdd-457f-4663-9c84-eb050fee1bb3",
   "metadata": {},
   "outputs": [],
   "source": []
  }
 ],
 "metadata": {
  "kernelspec": {
   "display_name": "Python 3 (ipykernel)",
   "language": "python",
   "name": "python3"
  },
  "language_info": {
   "codemirror_mode": {
    "name": "ipython",
    "version": 3
   },
   "file_extension": ".py",
   "mimetype": "text/x-python",
   "name": "python",
   "nbconvert_exporter": "python",
   "pygments_lexer": "ipython3",
   "version": "3.12.4"
  }
 },
 "nbformat": 4,
 "nbformat_minor": 5
}
