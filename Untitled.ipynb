{
 "cells": [
  {
   "cell_type": "code",
   "execution_count": 1,
   "id": "906a4b96-d74d-46e2-a383-2b85b187b268",
   "metadata": {},
   "outputs": [
    {
     "name": "stdout",
     "output_type": "stream",
     "text": [
      "python version 3.12.4 | packaged by Anaconda, Inc. | (main, Jun 18 2024, 15:03:56) [MSC v.1929 64 bit (AMD64)]\n"
     ]
    }
   ],
   "source": [
    "import sys\n",
    "print(\"python version\",sys.version)"
   ]
  },
  {
   "cell_type": "code",
   "execution_count": 3,
   "id": "373dfeec-622c-4d56-ade8-1a24f1b51d9f",
   "metadata": {},
   "outputs": [
    {
     "name": "stdout",
     "output_type": "stream",
     "text": [
      "i am pranay reddy\n"
     ]
    }
   ],
   "source": [
    "print(\"i am pranay reddy\")"
   ]
  },
  {
   "cell_type": "code",
   "execution_count": 5,
   "id": "023f5061-8b4e-4edd-a347-1a94c0597934",
   "metadata": {},
   "outputs": [
    {
     "name": "stdout",
     "output_type": "stream",
     "text": [
      "ten greater than two!\n"
     ]
    }
   ],
   "source": [
    "if 10>2:\n",
    "    print(\"ten greater than two!\")"
   ]
  },
  {
   "cell_type": "code",
   "execution_count": null,
   "id": "b23c524c-b3a9-4989-9022-2e774c03a696",
   "metadata": {},
   "outputs": [],
   "source": [
    "import keyword\n",
    "python_keyword"
   ]
  }
 ],
 "metadata": {
  "kernelspec": {
   "display_name": "Python 3 (ipykernel)",
   "language": "python",
   "name": "python3"
  },
  "language_info": {
   "codemirror_mode": {
    "name": "ipython",
    "version": 3
   },
   "file_extension": ".py",
   "mimetype": "text/x-python",
   "name": "python",
   "nbconvert_exporter": "python",
   "pygments_lexer": "ipython3",
   "version": "3.12.4"
  }
 },
 "nbformat": 4,
 "nbformat_minor": 5
}
