{
 "cells": [
  {
   "cell_type": "code",
   "execution_count": 5,
   "id": "fa23c0ff-fe15-4677-a153-6a58dcec8081",
   "metadata": {},
   "outputs": [
    {
     "data": {
      "text/plain": [
       "set()"
      ]
     },
     "execution_count": 5,
     "metadata": {},
     "output_type": "execute_result"
    }
   ],
   "source": [
    "#empty set\n",
    "empty_set = set()\n",
    "empty_set"
   ]
  },
  {
   "cell_type": "code",
   "execution_count": 9,
   "id": "fc8e48c5-38ae-4217-91bc-dd0e8e563acf",
   "metadata": {},
   "outputs": [
    {
     "name": "stdout",
     "output_type": "stream",
     "text": [
      "{'splender', 'pulsar', 'KTM', 'honda'}\n"
     ]
    }
   ],
   "source": [
    "#creating set()\n",
    "Bikes = {\"KTM\",\"pulsar\",\"honda\",\"splender\",\"pulsar\"}\n",
    "print(Bikes)"
   ]
  },
  {
   "cell_type": "code",
   "execution_count": 25,
   "id": "49f71420-a88b-4f90-9153-1d6dea5db2ec",
   "metadata": {},
   "outputs": [
    {
     "name": "stdout",
     "output_type": "stream",
     "text": [
      "{'KTM', 'splender', 'NS200', 'pulsar', 'honda'}\n",
      "{32, 65, 23, 100, 54, 7, 12}\n",
      "{'kittu', 'pranay', 'vasundhar', 'chandhu', 'lokesh'}\n",
      "{8.9, 6.3, 7.4, 8.4, 9.8, 6.9}\n",
      "{'warangal', 'parkal', 'hyderabad', 'karimnagar', 'kazipet'}\n",
      "{'tech mahindra', 'HCL', 'accenture', 'google'}\n",
      "{65, 23, 90, 12, 45, 78}\n"
     ]
    }
   ],
   "source": [
    "#Adding single item to a set()\n",
    "Bikes = {\"KTM\",\"pulsar\",\"honda\",\"splender\",\"pulsar\"}\n",
    "marks = {12 , 23 , 32 , 12 , 23 , 54 , 65 , 7 , 65 , 54}\n",
    "friends = {\"kittu\",\"pranay\",\"lokesh\",\"vasundhar\",\"pranay\",\"kittu\"}\n",
    "CGPA = {7.4 , 6.9 , 9.8 , 6.3 , 8.4 , 9.8 , 7.4}\n",
    "cities = {\"warangal\",\"kazipet\",\"hyderabad\",\"karimnagar\",\"warangal\",\"hyderabad\"}\n",
    "companies = {\"google\",\"tech mahindra\",\"HCL\",\"accenture\",\"HCL\",\"google\"}\n",
    "grades = {12 , 23 , 65 , 78 , 45 , 23 , 78 , 65}\n",
    "\n",
    "Bikes.add(\"NS200\")\n",
    "print(Bikes)\n",
    "marks.add(100)\n",
    "print(marks)\n",
    "friends.add(\"chandhu\")\n",
    "print(friends)\n",
    "CGPA.add(8.9)\n",
    "print(CGPA)\n",
    "cities.add(\"parkal\")\n",
    "print(cities)\n",
    "companies.add(\"google\")\n",
    "print(companies)\n",
    "grades.add(90)\n",
    "print(grades)"
   ]
  },
  {
   "cell_type": "code",
   "execution_count": 49,
   "id": "65b2c231-fc94-4e9e-8aa7-4f63f7fc1163",
   "metadata": {},
   "outputs": [
    {
     "name": "stdout",
     "output_type": "stream",
     "text": [
      "{'pulsar', 'KTM', 'hero', 'splender', 'duke', 'honda'}\n",
      "{32, 65, 7, 12, 54, 23, 985, 987}\n",
      "{'vishnu', 'gopal', 'lokesh', 'kittu', 'manoj', 'pranay', 'vasundhar'}\n",
      "{5.3, 6.3, 7.4, 8.4, 9.8, 6.9, 9.4}\n",
      "{'maharastra', 'hyderabad', 'mumbai', 'kolkata', 'warangal', 'karimnagar', 'kazipet'}\n",
      "{'hundai', 'HCL', 'factset', 'google', 'tech mahindra', 'accenture'}\n"
     ]
    }
   ],
   "source": [
    "#2) Update (sets,tuple,list)\n",
    "Bikes = {\"KTM\",\"pulsar\",\"honda\",\"splender\",\"pulsar\"}\n",
    "marks = {12 , 23 , 32 , 12 , 23 , 54 , 65 , 7 , 65 , 54}\n",
    "friends = {\"kittu\",\"pranay\",\"lokesh\",\"vasundhar\",\"pranay\",\"kittu\"}\n",
    "CGPA = {7.4 , 6.9 , 9.8 , 6.3 , 8.4 , 9.8 , 7.4}\n",
    "cities = {\"warangal\",\"kazipet\",\"hyderabad\",\"karimnagar\",\"warangal\",\"hyderabad\"}\n",
    "companies = {\"google\",\"tech mahindra\",\"HCL\",\"accenture\",\"HCL\",\"google\"}\n",
    "\n",
    "new_bikes = {\"duke\",\"hero\",\"pulsar\"}\n",
    "updated_bikes = Bikes.update(new_bikes)\n",
    "print(Bikes)\n",
    "new_marks = {32 , 54 ,987 , 985}\n",
    "updated_marks = marks.update(new_marks)\n",
    "print(marks)\n",
    "new_friends = {\"gopal\",\"vishnu\",\"manoj\"}\n",
    "updated_friends = friends.update(new_friends)\n",
    "print(friends)\n",
    "new_CGPA = {6.3 , 5.3 , 9.4}\n",
    "updated_CGPA = CGPA.update(new_CGPA)\n",
    "print(CGPA)\n",
    "new_cities = {\"kolkata\",\"mumbai\",\"maharastra\"}\n",
    "updated_cities = cities.update(new_cities)\n",
    "print(cities)\n",
    "new_companies = {\"factset\",\"HCL\",\"hundai\"}\n",
    "updated_companies = companies.update(new_companies)\n",
    "print(companies)\n"
   ]
  },
  {
   "cell_type": "code",
   "execution_count": 57,
   "id": "2f9e1124-7b05-4448-aa76-ac1a1992b204",
   "metadata": {},
   "outputs": [
    {
     "name": "stdout",
     "output_type": "stream",
     "text": [
      "{'splender', 'KTM', 'honda'}\n",
      "{32, 65, 23, 54, 7}\n",
      "{'vasundhar', 'kittu', 'lokesh'}\n",
      "{6.3, 8.4, 9.8, 6.9}\n",
      "{'warangal', 'hyderabad', 'kazipet'}\n"
     ]
    }
   ],
   "source": [
    "#3) Discard or Remove\n",
    "Bikes = {\"KTM\",\"pulsar\",\"honda\",\"splender\",\"pulsar\"}\n",
    "marks = {12 , 23 , 32 , 12 , 23 , 54 , 65 , 7 , 65 , 54}\n",
    "friends = {\"kittu\",\"pranay\",\"lokesh\",\"vasundhar\",\"pranay\",\"kittu\"}\n",
    "CGPA = {7.4 , 6.9 , 9.8 , 6.3 , 8.4 , 9.8 , 7.4}\n",
    "cities = {\"warangal\",\"kazipet\",\"hyderabad\",\"karimnagar\",\"warangal\",\"hyderabad\"}\n",
    "\n",
    "removed_Bikes = Bikes.remove(\"pulsar\")\n",
    "print(Bikes)\n",
    "removed_marks = marks.remove(12)\n",
    "print(marks)\n",
    "discarded_friend = friends.discard(\"pranay\")\n",
    "print(friends)\n",
    "discarded_CGPA = CGPA.discard(7.4)\n",
    "print(CGPA)\n",
    "removed_cities = cities.remove(\"karimnagar\")\n",
    "print(cities)"
   ]
  },
  {
   "cell_type": "code",
   "execution_count": 65,
   "id": "c584553f-8b58-47b5-86a2-851494a75e02",
   "metadata": {},
   "outputs": [
    {
     "name": "stdout",
     "output_type": "stream",
     "text": [
      "set()\n",
      "set()\n"
     ]
    }
   ],
   "source": [
    "#4) clear()\n",
    "Bikes = {\"KTM\",\"pulsar\",\"honda\",\"splender\",\"pulsar\"}\n",
    "Bikes.clear()\n",
    "print(Bikes)\n",
    "\n",
    "marks = {12 , 23 , 32 , 12 , 23 , 54 , 65 , 7 , 65 , 54}\n",
    "marks.clear()\n",
    "print(marks)"
   ]
  },
  {
   "cell_type": "code",
   "execution_count": 69,
   "id": "b2657a05-f0e5-470d-9bb0-987fa5020a24",
   "metadata": {},
   "outputs": [
    {
     "name": "stdout",
     "output_type": "stream",
     "text": [
      "{'vasundhar', 'kittu', 'pranay', 'lokesh'}\n",
      "{6.3, 7.4, 8.4, 9.8, 6.9}\n"
     ]
    }
   ],
   "source": [
    "#5) copy()\n",
    "friends = {\"kittu\",\"pranay\",\"lokesh\",\"vasundhar\",\"pranay\",\"kittu\"}\n",
    "batch = friends.copy()\n",
    "print(batch)\n",
    "\n",
    "CGPA = {7.4 , 6.9 , 9.8 , 6.3 , 8.4 , 9.8 , 7.4}\n",
    "qualify = CGPA.copy()\n",
    "print(qualify)"
   ]
  },
  {
   "cell_type": "code",
   "execution_count": 83,
   "id": "402bfffe-74f3-4f19-a072-2652c65b12bb",
   "metadata": {},
   "outputs": [
    {
     "name": "stdout",
     "output_type": "stream",
     "text": [
      "{65, 23, 54, 7, 12}\n",
      "remaining elements: {'kittu', 'pranay', 'lokesh'}\n"
     ]
    }
   ],
   "source": [
    "#6) pop() \n",
    "#removes the random value in the set()\n",
    "marks = {23 , 32 , 12 , 54 , 65 , 7}\n",
    "marks.pop()\n",
    "print(marks)\n",
    "\n",
    "friends = {\"kittu\",\"lokesh\",\"vasundhar\",\"pranay\"}\n",
    "friends.pop()\n",
    "print(\"remaining elements:\",friends)"
   ]
  },
  {
   "cell_type": "code",
   "execution_count": 141,
   "id": "6a4716df-bc7a-4e99-85c6-d5aefce878a0",
   "metadata": {},
   "outputs": [
    {
     "name": "stdout",
     "output_type": "stream",
     "text": [
      "True\n",
      "False\n"
     ]
    }
   ],
   "source": [
    "#7) issuperset()\n",
    "#The issuperset() method returns True if all items in the specified set exists in the original set, otherwise it returns False.\n",
    "set1 = {1 , 2 , 3 , 4 , 5 , 6 , 7}\n",
    "set2 = {3 , 4 , 5}\n",
    "result = set1.issuperset(set2)\n",
    "print(result)\n",
    "result = set2 >= set1\n",
    "print(result)"
   ]
  },
  {
   "cell_type": "code",
   "execution_count": 145,
   "id": "9ab601eb-4c4b-4656-8c7b-181923caa5b0",
   "metadata": {},
   "outputs": [
    {
     "name": "stdout",
     "output_type": "stream",
     "text": [
      "False\n",
      "True\n"
     ]
    }
   ],
   "source": [
    "#8) issubset()\n",
    "#The issubset() method returns True if all items in the set exists in the specified set, otherwise it returns False.\n",
    "set1 = {1 , 2 , 3 , 4 , 5 , 6 , 7}\n",
    "set2 = {3 , 4 , 5}\n",
    "results = set1.issubset(set2)\n",
    "print(results)\n",
    "results = set2 <= set1\n",
    "print(results)"
   ]
  },
  {
   "cell_type": "code",
   "execution_count": 149,
   "id": "644fea14-a98c-4bdc-a25a-4ccf9915a565",
   "metadata": {},
   "outputs": [
    {
     "name": "stdout",
     "output_type": "stream",
     "text": [
      "True\n",
      "False\n"
     ]
    }
   ],
   "source": [
    "#9) isdisjoint()\n",
    "##The isdisjoint() method returns True if none of the items are present in both sets, otherwise it returns False.\n",
    "set1 = {1,2,3,4,5,6,7,8}\n",
    "set2 = {6,7,8,9,10,11,12}\n",
    "set3 = {\"kittu\",\"pranay\",\"lokesh\",\"vasundhar\",\"lokesh\"}\n",
    "result = set1.isdisjoint(set3)\n",
    "print(result)\n",
    "result = set1.isdisjoint(set2)\n",
    "print(result)"
   ]
  },
  {
   "cell_type": "code",
   "execution_count": 93,
   "id": "0b32228f-b4e1-4359-987c-4cb267c018a7",
   "metadata": {},
   "outputs": [
    {
     "name": "stdout",
     "output_type": "stream",
     "text": [
      "union of set1 and set2: {1, 2, 3, 4, 5, 6, 7, 8, 9, 10, 11, 12}\n",
      "union of set1 and set2: {1, 2, 3, 4, 5, 6, 7, 8, 9, 10, 11, 12}\n",
      "union of set3 and set4: {'kishore', 'kittu', 'pranay', 'vasundhar', 'lokesh', 'prem', 'manoj'}\n",
      "union of set3 and set5: {'kishore', 6, 7, 'kittu', 'pranay', 'vasundhar', 15, 'yadhav', 'lokesh'}\n",
      "union of set2 and set5: {'kishore', 6, 7, 8, 9, 10, 11, 12, 'pranay', 'vasundhar', 15, 'yadhav'}\n",
      "union of set2 and set4: {'kishore', 6, 7, 8, 9, 10, 11, 12, 'kittu', 'pranay', 'prem', 'manoj'}\n"
     ]
    }
   ],
   "source": [
    "#python set operators\n",
    "#1) Union, include all set1 and set2, no duplicate values\n",
    "set1 = {1,2,3,4,5,6,7,8}\n",
    "set2 = {6,7,8,9,10,11,12}\n",
    "set3 = {\"kittu\",\"pranay\",\"lokesh\",\"vasundhar\",\"lokesh\"}\n",
    "set4 = {\"kishore\",\"pranay\",\"kittu\",\"manoj\",\"prem\"}\n",
    "set5 = {\"kishore\",\"pranay\",6,7,15,\"vasundhar\",\"yadhav\"}\n",
    "\n",
    "print(\"union of set1 and set2:\",set1 | set2)\n",
    "print(\"union of set1 and set2:\",set1.union(set2))\n",
    "print(\"union of set3 and set4:\",set3 | set4)\n",
    "print(\"union of set3 and set5:\",set3 | set5)\n",
    "print(\"union of set2 and set5:\",set2.union(set5))\n",
    "print(\"union of set2 and set4:\",set2.union(set4))"
   ]
  },
  {
   "cell_type": "code",
   "execution_count": 103,
   "id": "290aa5ce-db27-4e65-970b-842f3b5b7a5d",
   "metadata": {},
   "outputs": [
    {
     "name": "stdout",
     "output_type": "stream",
     "text": [
      "intersection of set1 and set2: {8, 6, 7}\n",
      "intersection of set2 and set3: set()\n",
      "intersection of set3 and set4: {'kittu', 'pranay'}\n",
      "intersection of set4 and set5: {'kishore', 'pranay'}\n",
      "intersection of set2 and set5: {6, 7}\n"
     ]
    }
   ],
   "source": [
    "#2) Intersection, includes only common elements, no duplicate elements\n",
    "set1 = {1,2,3,4,5,6,7,8}\n",
    "set2 = {6,7,8,9,10,11,12}\n",
    "set3 = {\"kittu\",\"pranay\",\"lokesh\",\"vasundhar\",\"lokesh\"}\n",
    "set4 = {\"kishore\",\"pranay\",\"kittu\",\"manoj\",\"prem\"}\n",
    "set5 = {\"kishore\",\"pranay\",6,7,15,\"vasundhar\",\"yadhav\"}\n",
    "\n",
    "print(\"intersection of set1 and set2:\",set1 & set2)\n",
    "print(\"intersection of set2 and set3:\",set2.intersection(set3))\n",
    "print(\"intersection of set3 and set4:\",set3 & set4)\n",
    "print(\"intersection of set4 and set5:\",set4.intersection(set5))\n",
    "print(\"intersection of set2 and set5:\",set2 & set5)"
   ]
  },
  {
   "cell_type": "code",
   "execution_count": 117,
   "id": "b275b94b-5618-4db3-b438-3bac564b0045",
   "metadata": {},
   "outputs": [
    {
     "name": "stdout",
     "output_type": "stream",
     "text": [
      "difference b/w set1 and set2: {1, 2, 3, 4, 5}\n",
      "difference b/w set2 and set3: {6, 7, 8, 9, 10, 11, 12}\n",
      "difference b/w set3 and set4: {'lokesh', 'vasundhar'}\n",
      "difference b/w set4 and set3: {'prem', 'kishore', 'manoj'}\n",
      "difference b/w set5 and set2: {'kishore', 'pranay', 15, 'vasundhar', 'yadhav'}\n",
      "difference b/w set4 and set5: {'kittu', 'prem', 'manoj'}\n"
     ]
    }
   ],
   "source": [
    "#3) Difference between two sets()\n",
    "#removes B from A if A-B , removes A from B if B-A and displays remaining elements\n",
    "set1 = {1,2,3,4,5,6,7,8}\n",
    "set2 = {6,7,8,9,10,11,12}\n",
    "set3 = {\"kittu\",\"pranay\",\"lokesh\",\"vasundhar\",\"lokesh\"}\n",
    "set4 = {\"kishore\",\"pranay\",\"kittu\",\"manoj\",\"prem\"}\n",
    "set5 = {\"kishore\",\"pranay\",6,7,15,\"vasundhar\",\"yadhav\"}\n",
    "\n",
    "print(\"difference b/w set1 and set2:\",set1 - set2)\n",
    "print(\"difference b/w set2 and set3:\",set2 - set3)\n",
    "print(\"difference b/w set3 and set4:\",set3.difference(set4))\n",
    "print(\"difference b/w set4 and set3:\",set4 - set3)\n",
    "print(\"difference b/w set5 and set2:\",set5.difference(set2))\n",
    "print(\"difference b/w set4 and set5:\",set4.difference(set5))"
   ]
  },
  {
   "cell_type": "code",
   "execution_count": 133,
   "id": "d8cf9937-2de8-417f-81a5-01d632d99e04",
   "metadata": {},
   "outputs": [
    {
     "name": "stdout",
     "output_type": "stream",
     "text": [
      "Symmetric Difference b/w set1 and set2: {1, 2, 3, 4, 5, 9, 10, 11, 12}\n",
      "Symmetric Difference b/w set3 and set4: {'kishore', 'lokesh', 'prem', 'manoj', 'vasundhar'}\n",
      "Symmetric Difference b/w set4 and set5: {6, 7, 'vasundhar', 15, 'yadhav', 'prem', 'kittu', 'manoj'}\n",
      "Symmetric Difference b/w set3 and set5: {'kishore', 6, 7, 'kittu', 15, 'yadhav', 'lokesh'}\n",
      "Symmetric Difference b/w set5 and set1: {1, 2, 3, 4, 5, 8, 'kishore', 'pranay', 'vasundhar', 15, 'yadhav'}\n"
     ]
    }
   ],
   "source": [
    "#4) set symmetric difference\n",
    "#removes common elements and displays remaining\n",
    "set1 = {1,2,3,4,5,6,7,8}\n",
    "set2 = {6,7,8,9,10,11,12}\n",
    "set3 = {\"kittu\",\"pranay\",\"lokesh\",\"vasundhar\",\"lokesh\"}\n",
    "set4 = {\"kishore\",\"pranay\",\"kittu\",\"manoj\",\"prem\"}\n",
    "set5 = {\"kishore\",\"pranay\",6,7,15,\"vasundhar\",\"yadhav\"}\n",
    "\n",
    "print(\"Symmetric Difference b/w set1 and set2:\",set1 ^ set2) \n",
    "print(\"Symmetric Difference b/w set3 and set4:\",set3 ^ set4)\n",
    "print(\"Symmetric Difference b/w set4 and set5:\",set4.symmetric_difference(set5))\n",
    "print(\"Symmetric Difference b/w set3 and set5:\",set3.symmetric_difference(set5))\n",
    "print(\"Symmetric Difference b/w set5 and set1:\",set5 ^ set1)"
   ]
  },
  {
   "cell_type": "code",
   "execution_count": null,
   "id": "c72c8390-cae0-4074-ae8b-3eb971f70b62",
   "metadata": {},
   "outputs": [],
   "source": []
  }
 ],
 "metadata": {
  "kernelspec": {
   "display_name": "Python 3 (ipykernel)",
   "language": "python",
   "name": "python3"
  },
  "language_info": {
   "codemirror_mode": {
    "name": "ipython",
    "version": 3
   },
   "file_extension": ".py",
   "mimetype": "text/x-python",
   "name": "python",
   "nbconvert_exporter": "python",
   "pygments_lexer": "ipython3",
   "version": "3.12.4"
  }
 },
 "nbformat": 4,
 "nbformat_minor": 5
}
