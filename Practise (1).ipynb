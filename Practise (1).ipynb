{
 "cells": [
  {
   "cell_type": "code",
   "execution_count": 41,
   "id": "ad07f5b3-b084-4a42-9731-fc796c3a824f",
   "metadata": {},
   "outputs": [
    {
     "name": "stdin",
     "output_type": "stream",
     "text": [
      "Enter the letter f\n"
     ]
    },
    {
     "name": "stdout",
     "output_type": "stream",
     "text": [
      "f is consonent\n"
     ]
    }
   ],
   "source": [
    "#Vowels\n",
    "Letter = input(\"Enter the letter\")\n",
    "if Letter in (\"a\",\"e\",\"i\",\"o\",\"u\",\"A\",\"E\",\"I\",\"O\",\"U\") :\n",
    "    print(Letter,\"is Vowel Letter\")\n",
    "else :\n",
    "    print(Letter,\"is consonent\")"
   ]
  },
  {
   "cell_type": "code",
   "execution_count": 23,
   "id": "08796a62-24ac-4220-b15d-8aa3a60b64d8",
   "metadata": {},
   "outputs": [
    {
     "name": "stdin",
     "output_type": "stream",
     "text": [
      "Enter a number 0\n"
     ]
    },
    {
     "name": "stdout",
     "output_type": "stream",
     "text": [
      "0 is even\n"
     ]
    }
   ],
   "source": [
    "#Even or Odd\n",
    "num = int(input(\"Enter a number\"))\n",
    "if num % 2 == 0 :\n",
    "    print(num,\"is even\")\n",
    "else :\n",
    "    print(num,\"is odd\")         "
   ]
  },
  {
   "cell_type": "code",
   "execution_count": 25,
   "id": "f3b2862f-364f-47df-b1a8-0143d2d7c68c",
   "metadata": {},
   "outputs": [
    {
     "name": "stdin",
     "output_type": "stream",
     "text": [
      "enter the number 45\n",
      "enter the number 567\n",
      "enter the number 8765\n"
     ]
    },
    {
     "name": "stdout",
     "output_type": "stream",
     "text": [
      "8765 is greater among the three\n"
     ]
    }
   ],
   "source": [
    "#Greatest of three numbers\n",
    "\n",
    "num1 = int(input(\"enter the number\"))\n",
    "num2 = int(input(\"enter the number\"))\n",
    "num3 = int(input(\"enter the number\"))\n",
    "if num1 > num2 and num1 > num3 :\n",
    "    print(num1,\"is greater among the three\")\n",
    "elif num2 > num1 and num2 > num3 :\n",
    "    print(num2,\"is greater among the three\")\n",
    "else :\n",
    "    print(num3,\"is greater among the three\")"
   ]
  },
  {
   "cell_type": "code",
   "execution_count": 3,
   "id": "d82e7622-e68e-4e52-af19-26ccfa2074b5",
   "metadata": {},
   "outputs": [
    {
     "name": "stdin",
     "output_type": "stream",
     "text": [
      "enter the number 11\n",
      "enter the number 22\n",
      "enter the number 33\n"
     ]
    },
    {
     "name": "stdout",
     "output_type": "stream",
     "text": [
      "11 is smallest among the three\n"
     ]
    }
   ],
   "source": [
    "#Smallest of three numbers\n",
    "num1 = int(input(\"enter the number\"))\n",
    "num2 = int(input(\"enter the number\"))\n",
    "num3 = int(input(\"enter the number\"))\n",
    "if num1 < num2 and num1 < num3 :\n",
    "    print(num1,\"is smallest among the three\")\n",
    "elif num2 < num1 and num2 < num3 :\n",
    "    print(num2,\"is smallest among the three\")\n",
    "else :\n",
    "    print(num3,\"is smallest among the three\")"
   ]
  },
  {
   "cell_type": "code",
   "execution_count": 57,
   "id": "64d5e157-993e-4cc1-b4e0-e1c54596ebc3",
   "metadata": {},
   "outputs": [
    {
     "name": "stdin",
     "output_type": "stream",
     "text": [
      "Enter the year 2024\n"
     ]
    },
    {
     "name": "stdout",
     "output_type": "stream",
     "text": [
      "2024 is a leap year\n"
     ]
    }
   ],
   "source": [
    "#finfing leap year\n",
    "year = int(input(\"Enter the year\"))\n",
    "if year % 4 == 0 :\n",
    "    print(year, \"is a leap year\")\n",
    "else :\n",
    "    print(year,\"is not a leap year\")"
   ]
  },
  {
   "cell_type": "code",
   "execution_count": 5,
   "id": "b37469bf-f65f-4dc9-9155-ddbee3293ba6",
   "metadata": {},
   "outputs": [
    {
     "name": "stdin",
     "output_type": "stream",
     "text": [
      "Enter the word javaj\n"
     ]
    },
    {
     "name": "stdout",
     "output_type": "stream",
     "text": [
      "javaj Yes it is a palimdrome\n"
     ]
    }
   ],
   "source": [
    "#palindrome\n",
    "name = input(\"Enter the word\")\n",
    "palindrome = name[::-1]\n",
    "if name == palindrome :\n",
    "    print(name,\"Yes it is a palimdrome\")\n",
    "else :\n",
    "    print(name,\"It is not a palindrome\")"
   ]
  },
  {
   "cell_type": "code",
   "execution_count": 27,
   "id": "b5e8cf32-cc18-4b13-8d81-7ade44658ece",
   "metadata": {},
   "outputs": [
    {
     "name": "stdin",
     "output_type": "stream",
     "text": [
      "Enter the value of celius 43\n"
     ]
    },
    {
     "name": "stdout",
     "output_type": "stream",
     "text": [
      "109.4 fahrenheits\n"
     ]
    }
   ],
   "source": [
    "#celcius to Fahrenheit\n",
    "celcius = int(input(\"Enter the value of celius\"))\n",
    "fahrenheit = celcius*(9/5)+32\n",
    "print(fahrenheit,\"fahrenheits\")"
   ]
  },
  {
   "cell_type": "code",
   "execution_count": 63,
   "id": "bf543560-fda8-49ac-a16e-0c5fddc41cb3",
   "metadata": {},
   "outputs": [
    {
     "name": "stdin",
     "output_type": "stream",
     "text": [
      "Enter the month number 2\n"
     ]
    },
    {
     "name": "stdout",
     "output_type": "stream",
     "text": [
      "This month have only 28 days\n"
     ]
    }
   ],
   "source": [
    "month = int(input(\"Enter the month number\"))\n",
    "if month == 4 or month == 6 or month ==9 or month == 11 :\n",
    "    print(\"This month have 30 days\")    \n",
    "elif month == 1 or month == 3 or month == 5 or month== 7 or month == 8 or month== 10 or month == 12 :\n",
    "    print(\"This month have 31 days\")\n",
    "elif month == 2 :\n",
    "    print(\"This month have only 28 days\")\n",
    "else :\n",
    "    print(\"Please enter a valid month\")"
   ]
  },
  {
   "cell_type": "code",
   "execution_count": null,
   "id": "cd770ee7-8a2d-47e0-9167-b6616a98f625",
   "metadata": {},
   "outputs": [],
   "source": []
  }
 ],
 "metadata": {
  "kernelspec": {
   "display_name": "Python 3 (ipykernel)",
   "language": "python",
   "name": "python3"
  },
  "language_info": {
   "codemirror_mode": {
    "name": "ipython",
    "version": 3
   },
   "file_extension": ".py",
   "mimetype": "text/x-python",
   "name": "python",
   "nbconvert_exporter": "python",
   "pygments_lexer": "ipython3",
   "version": "3.12.4"
  }
 },
 "nbformat": 4,
 "nbformat_minor": 5
}
