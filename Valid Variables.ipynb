{
 "cells": [
  {
   "cell_type": "code",
   "execution_count": 1,
   "id": "2bf75b69-bad5-46e1-b8c2-171d71d210f0",
   "metadata": {},
   "outputs": [
    {
     "name": "stdout",
     "output_type": "stream",
     "text": [
      "28\n",
      "54\n",
      "apple\n",
      "bike\n",
      "29\n",
      "15\n",
      "banana\n"
     ]
    },
    {
     "ename": "NameError",
     "evalue": "name '_vechicle' is not defined",
     "output_type": "error",
     "traceback": [
      "\u001b[1;31m---------------------------------------------------------------------------\u001b[0m",
      "\u001b[1;31mNameError\u001b[0m                                 Traceback (most recent call last)",
      "Cell \u001b[1;32mIn[1], line 18\u001b[0m\n\u001b[0;32m     16\u001b[0m \u001b[38;5;28mprint\u001b[39m(no_of_students)\n\u001b[0;32m     17\u001b[0m \u001b[38;5;28mprint\u001b[39m(_FRUIT)\n\u001b[1;32m---> 18\u001b[0m \u001b[38;5;28mprint\u001b[39m(_vechicle)\n\u001b[0;32m     19\u001b[0m \u001b[38;5;28mprint\u001b[39m(no_of_districts)\n\u001b[0;32m     20\u001b[0m \u001b[38;5;28mprint\u001b[39m(vamsi_sir)\n",
      "\u001b[1;31mNameError\u001b[0m: name '_vechicle' is not defined"
     ]
    }
   ],
   "source": [
    "Number_of_states = 28\n",
    "Score = 54\n",
    "_fruit = \"apple\"\n",
    "vechicle = \"bike\"\n",
    "SCORE = 29\n",
    "no_of_students = 15\n",
    "_FRUIT = \"banana\"\n",
    "_vecicle = \"car\"\n",
    "no_of_districts = 33\n",
    "vamsi_sir = \"excellent\"\n",
    "print(Number_of_states)\n",
    "print(Score)\n",
    "print(_fruit)\n",
    "print(vechicle)\n",
    "print(SCORE)\n",
    "print(no_of_students)\n",
    "print(_FRUIT)\n",
    "print(_vechicle)\n",
    "print(no_of_districts)\n",
    "print(vamsi_sir)"
   ]
  },
  {
   "cell_type": "code",
   "execution_count": null,
   "id": "88d27eb7-67e6-4f11-94b4-3dbcb3301b4f",
   "metadata": {},
   "outputs": [],
   "source": []
  }
 ],
 "metadata": {
  "kernelspec": {
   "display_name": "Python 3 (ipykernel)",
   "language": "python",
   "name": "python3"
  },
  "language_info": {
   "codemirror_mode": {
    "name": "ipython",
    "version": 3
   },
   "file_extension": ".py",
   "mimetype": "text/x-python",
   "name": "python",
   "nbconvert_exporter": "python",
   "pygments_lexer": "ipython3",
   "version": "3.12.4"
  }
 },
 "nbformat": 4,
 "nbformat_minor": 5
}
