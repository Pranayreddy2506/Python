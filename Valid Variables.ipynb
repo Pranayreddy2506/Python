{
 "cells": [
  {
   "cell_type": "code",
   "execution_count": 3,
   "id": "2bf75b69-bad5-46e1-b8c2-171d71d210f0",
   "metadata": {},
   "outputs": [
    {
     "name": "stdout",
     "output_type": "stream",
     "text": [
      "28\n",
      "54\n",
      "apple\n",
      "bike\n",
      "29\n",
      "15\n",
      "banana\n",
      "car\n",
      "33\n",
      "excellent\n"
     ]
    }
   ],
   "source": [
    "Number_of_states = 28\n",
    "Score = 54\n",
    "_fruit = \"apple\"\n",
    "vechicle = \"bike\"\n",
    "SCORE = 29\n",
    "no_of_students = 15\n",
    "_FRUIT = \"banana\"\n",
    "_vechicle = \"car\"\n",
    "no_of_districts = 33\n",
    "vamsi_sir = \"excellent\"\n",
    "print(Number_of_states)\n",
    "print(Score)\n",
    "print(_fruit)\n",
    "print(vechicle)\n",
    "print(SCORE)\n",
    "print(no_of_students)\n",
    "print(_FRUIT)\n",
    "print(_vechicle)\n",
    "print(no_of_districts)\n",
    "print(vamsi_sir)"
   ]
  },
  {
   "cell_type": "code",
   "execution_count": null,
   "id": "88d27eb7-67e6-4f11-94b4-3dbcb3301b4f",
   "metadata": {},
   "outputs": [],
   "source": []
  }
 ],
 "metadata": {
  "kernelspec": {
   "display_name": "Python 3 (ipykernel)",
   "language": "python",
   "name": "python3"
  },
  "language_info": {
   "codemirror_mode": {
    "name": "ipython",
    "version": 3
   },
   "file_extension": ".py",
   "mimetype": "text/x-python",
   "name": "python",
   "nbconvert_exporter": "python",
   "pygments_lexer": "ipython3",
   "version": "3.12.4"
  }
 },
 "nbformat": 4,
 "nbformat_minor": 5
}
