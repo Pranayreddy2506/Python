{
 "cells": [
  {
   "cell_type": "code",
   "execution_count": 3,
   "id": "45f7079f-1e3f-4874-a259-b362699fea90",
   "metadata": {},
   "outputs": [
    {
     "data": {
      "text/plain": [
       "()"
      ]
     },
     "execution_count": 3,
     "metadata": {},
     "output_type": "execute_result"
    }
   ],
   "source": [
    "#ordered,immutable\n",
    "#creating empty tuple\n",
    "empty_tuple = ()\n",
    "empty_tuple"
   ]
  },
  {
   "cell_type": "code",
   "execution_count": 44,
   "id": "9c5a7473-2dd6-4dc8-9185-9af57bde8402",
   "metadata": {},
   "outputs": [
    {
     "name": "stdout",
     "output_type": "stream",
     "text": [
      "('koushik', 'lokesh', 'vamsi', 'sheshidhar', 'saiteja')\n",
      "<class 'tuple'>\n",
      "('ktm', 'suzuki', 'honda', 'shine')\n",
      "('banana', 2.32, 'bikes', 453)\n",
      "(True, False, 'apple', 2.45)\n",
      "('vasu', 'kittu', 'pranay', 'lokesh', 'shiva')\n",
      "('kavya', 'khyathi', 11.32, 'bhavana', 'bhavya', 'kaal')\n",
      "('gopal', 'chandhu', 'aniketh', True, 'manoj', 'varhan')\n",
      "<class 'tuple'>\n",
      "(32,)\n",
      "('sri', 'vardhan', 'vinith', 22222, 'prakash', 'raju')\n",
      "kight\n"
     ]
    }
   ],
   "source": [
    "#creating a tuple\n",
    "names = (\"koushik\",\"lokesh\",\"vamsi\",\"sheshidhar\",\"saiteja\")\n",
    "print(names)\n",
    "print(type(names))\n",
    "\n",
    "Bikes = (\"ktm\",\"suzuki\",\"honda\",\"shine\")\n",
    "print(Bikes)\n",
    "\n",
    "mixed_tuple1 = (\"banana\",2.32,\"bikes\",453)\n",
    "print(mixed_tuple1)\n",
    "\n",
    "mixed_tuple2 = (True , False , \"apple\" , 2.45)\n",
    "print(mixed_tuple2)\n",
    "\n",
    "batch_1 = (\"vasu\",\"kittu\",\"pranay\",\"lokesh\",\"shiva\")\n",
    "print(batch_1)\n",
    "\n",
    "batch_2 = (\"kavya\",\"khyathi\",11.32,\"bhavana\",\"bhavya\",\"kaal\")\n",
    "print(batch_2)\n",
    "\n",
    "batch_3 = (\"gopal\",\"chandhu\",\"aniketh\",True,\"manoj\",\"varhan\")\n",
    "print(batch_3)\n",
    "\n",
    "batch_4 = (32,)\n",
    "print(type(batch_4))\n",
    "print(batch_4)\n",
    "\n",
    "batch_5 = (\"sri\",\"vardhan\",\"vinith\",22222,\"prakash\",\"raju\")\n",
    "print(batch_5)\n",
    "\n",
    "abc = (\"kight\")\n",
    "print(abc)"
   ]
  },
  {
   "cell_type": "code",
   "execution_count": 62,
   "id": "0d3d5e8d-6c67-4270-887d-f4eef4da9ce6",
   "metadata": {},
   "outputs": [
    {
     "name": "stdout",
     "output_type": "stream",
     "text": [
      "vamsi\n",
      "shine\n",
      "2.32\n",
      "2.45\n",
      "pranay\n",
      "kavya\n",
      "True\n",
      "32\n",
      "vinith\n",
      "t\n",
      "('vamsi', 'sheshidhar')\n",
      "('ktm', 'suzuki')\n",
      "('bikes', 453)\n",
      "()\n",
      "('pranay', 'lokesh')\n",
      "('kavya', 'khyathi')\n",
      "('aniketh', True, 'manoj')\n",
      "(32,)\n",
      "('sri', 'vardhan')\n",
      "t\n"
     ]
    }
   ],
   "source": [
    "#Accessing of tuples\n",
    "#indexing of tuples\n",
    "names = (\"koushik\",\"lokesh\",\"vamsi\",\"sheshidhar\",\"saiteja\")\n",
    "Bikes = (\"ktm\",\"suzuki\",\"honda\",\"shine\")\n",
    "mixed_tuple1 = (\"banana\",2.32,\"bikes\",453)\n",
    "mixed_tuple2 = (True , False , \"apple\" , 2.45)\n",
    "batch_1 = (\"vasu\",\"kittu\",\"pranay\",\"lokesh\",\"shiva\")\n",
    "batch_2 = (\"kavya\",\"khyathi\",11.32,\"bhavana\",\"bhavya\",\"kaal\")\n",
    "batch_3 = (\"gopal\",\"chandhu\",\"aniketh\",True,\"manoj\",\"varhan\")\n",
    "batch_4 = (32,)\n",
    "batch_5 = (\"sri\",\"vardhan\",\"vinith\",22222,\"prakash\",\"raju\")\n",
    "abc = (\"kight\")\n",
    "print(names[2])\n",
    "print(Bikes[3])\n",
    "print(mixed_tuple1[1])\n",
    "print(mixed_tuple2[3])\n",
    "print(batch_1[2])\n",
    "print(batch_2[0])\n",
    "print(batch_3[3])\n",
    "print(batch_4[0])\n",
    "print(batch_5[2])\n",
    "print(abc[4])\n",
    "\n",
    "##Slicing of tuples\n",
    "names = (\"koushik\",\"lokesh\",\"vamsi\",\"sheshidhar\",\"saiteja\")\n",
    "Bikes = (\"ktm\",\"suzuki\",\"honda\",\"shine\")\n",
    "mixed_tuple1 = (\"banana\",2.32,\"bikes\",453)\n",
    "mixed_tuple2 = (True , False , \"apple\" , 2.45)\n",
    "batch_1 = (\"vasu\",\"kittu\",\"pranay\",\"lokesh\",\"shiva\")\n",
    "batch_2 = (\"kavya\",\"khyathi\",11.32,\"bhavana\",\"bhavya\",\"kaal\")\n",
    "batch_3 = (\"gopal\",\"chandhu\",\"aniketh\",True,\"manoj\",\"varhan\")\n",
    "batch_4 = (32,)\n",
    "batch_5 = (\"sri\",\"vardhan\",\"vinith\",22222,\"prakash\",\"raju\")\n",
    "abc = (\"kight\")\n",
    "print(names[2 : 4])\n",
    "print(Bikes[0 : 2])\n",
    "print(mixed_tuple1[2 : 5])\n",
    "print(mixed_tuple2[-3 : 0])\n",
    "print(batch_1[2 : 4])\n",
    "print(batch_2[0 : 2])\n",
    "print(batch_3[2 : 5])\n",
    "print(batch_4[0 : ])\n",
    "print(batch_5[ : 2])\n",
    "print(abc[4 : ])"
   ]
  },
  {
   "cell_type": "code",
   "execution_count": 64,
   "id": "0906f333-b783-4897-a44a-2474522ddb6a",
   "metadata": {},
   "outputs": [
    {
     "ename": "TypeError",
     "evalue": "'tuple' object does not support item assignment",
     "output_type": "error",
     "traceback": [
      "\u001b[1;31m---------------------------------------------------------------------------\u001b[0m",
      "\u001b[1;31mTypeError\u001b[0m                                 Traceback (most recent call last)",
      "Cell \u001b[1;32mIn[64], line 3\u001b[0m\n\u001b[0;32m      1\u001b[0m \u001b[38;5;66;03m#immutability (cannot change or modify)\u001b[39;00m\n\u001b[0;32m      2\u001b[0m names \u001b[38;5;241m=\u001b[39m (\u001b[38;5;124m\"\u001b[39m\u001b[38;5;124mkoushik\u001b[39m\u001b[38;5;124m\"\u001b[39m,\u001b[38;5;124m\"\u001b[39m\u001b[38;5;124mlokesh\u001b[39m\u001b[38;5;124m\"\u001b[39m,\u001b[38;5;124m\"\u001b[39m\u001b[38;5;124mvamsi\u001b[39m\u001b[38;5;124m\"\u001b[39m,\u001b[38;5;124m\"\u001b[39m\u001b[38;5;124msheshidhar\u001b[39m\u001b[38;5;124m\"\u001b[39m,\u001b[38;5;124m\"\u001b[39m\u001b[38;5;124msaiteja\u001b[39m\u001b[38;5;124m\"\u001b[39m)\n\u001b[1;32m----> 3\u001b[0m names[\u001b[38;5;241m0\u001b[39m] \u001b[38;5;241m=\u001b[39m \u001b[38;5;124m\"\u001b[39m\u001b[38;5;124mraghu\u001b[39m\u001b[38;5;124m\"\u001b[39m\n\u001b[0;32m      4\u001b[0m \u001b[38;5;28mprint\u001b[39m(names)\n",
      "\u001b[1;31mTypeError\u001b[0m: 'tuple' object does not support item assignment"
     ]
    }
   ],
   "source": [
    "#immutability (cannot change or modify)\n",
    "names = (\"koushik\",\"lokesh\",\"vamsi\",\"sheshidhar\",\"saiteja\")\n",
    "names[0] = \"raghu\"\n",
    "print(names)"
   ]
  },
  {
   "cell_type": "code",
   "execution_count": 80,
   "id": "9e0501d7-8d78-40d0-855f-8ec5de9c2161",
   "metadata": {},
   "outputs": [
    {
     "name": "stdout",
     "output_type": "stream",
     "text": [
      "('koushik', 'lokesh', 'vamsi', 'sheshidhar', 'saiteja', 'ktm', 'suzuki', 'honda', 'shine')\n",
      "('banana', 2.32, 'bikes', 453, True, False, 'apple', 2.45)\n",
      "('vasu', 'kittu', 'pranay', 'lokesh', 'shiva', 'kavya', 'khyathi', 11.32, 'bhavana', 'bhavya', 'kaal')\n",
      "('gopal', 'chandhu', 'aniketh', True, 'manoj', 'varhan', 32)\n",
      "('sri', 'vardhan', 'vinith', 22222, 'prakash', 'raju', 'kight')\n",
      "('koushik', 'lokesh', 'vamsi', 'sheshidhar', 'saiteja', 'kight')\n",
      "('banana', 2.32, 'bikes', 453, 'sri', 'vardhan', 'vinith', 22222, 'prakash', 'raju')\n",
      "(True, False, 'apple', 2.45, 32)\n",
      "('vasu', 'kittu', 'pranay', 'lokesh', 'shiva', 'kavya', 'khyathi', 11.32, 'bhavana', 'bhavya', 'kaal', 'gopal', 'chandhu', 'aniketh', True, 'manoj', 'varhan')\n",
      "('koushik', 'lokesh', 'vamsi', 'sheshidhar', 'saiteja', 'ktm', 'suzuki', 'honda', 'shine', 'vasu', 'kittu', 'pranay', 'lokesh', 'shiva', 'kavya', 'khyathi', 11.32, 'bhavana', 'bhavya', 'kaal', 'gopal', 'chandhu', 'aniketh', True, 'manoj', 'varhan')\n"
     ]
    }
   ],
   "source": [
    "#Tuple Operations\n",
    "#1) Concatination\n",
    "names = (\"koushik\",\"lokesh\",\"vamsi\",\"sheshidhar\",\"saiteja\")\n",
    "Bikes = (\"ktm\",\"suzuki\",\"honda\",\"shine\")\n",
    "mixed_tuple1 = (\"banana\",2.32,\"bikes\",453)\n",
    "mixed_tuple2 = (True , False , \"apple\" , 2.45)\n",
    "batch_1 = (\"vasu\",\"kittu\",\"pranay\",\"lokesh\",\"shiva\")\n",
    "batch_2 = (\"kavya\",\"khyathi\",11.32,\"bhavana\",\"bhavya\",\"kaal\")\n",
    "batch_3 = (\"gopal\",\"chandhu\",\"aniketh\",True,\"manoj\",\"varhan\")\n",
    "batch_4 = (32,)\n",
    "batch_5 = (\"sri\",\"vardhan\",\"vinith\",22222,\"prakash\",\"raju\")\n",
    "abc = (\"kight\",)\n",
    "print(names + Bikes)\n",
    "print(mixed_tuple1 + mixed_tuple2)\n",
    "print(batch_1 + batch_2)\n",
    "print(batch_3 + batch_4)\n",
    "print(batch_5 + abc)\n",
    "print(names + abc)\n",
    "print(mixed_tuple1 + batch_5)\n",
    "print(mixed_tuple2 + batch_4)\n",
    "print(batch_1 + batch_2 + batch_3)\n",
    "print(names + Bikes + batch_1 + batch_2 + batch_3)"
   ]
  },
  {
   "cell_type": "code",
   "execution_count": 92,
   "id": "69e19946-3ef3-44e3-bece-d45e17974e1d",
   "metadata": {},
   "outputs": [
    {
     "name": "stdout",
     "output_type": "stream",
     "text": [
      "('koushik', 'lokesh', 'vamsi', 'sheshidhar', 'saiteja', 'koushik', 'lokesh', 'vamsi', 'sheshidhar', 'saiteja')\n",
      "('ktm', 'suzuki', 'honda', 'shine', 'ktm', 'suzuki', 'honda', 'shine', 'ktm', 'suzuki', 'honda', 'shine')\n",
      "('gopal', 'chandhu', 'aniketh', True, 'manoj', 'varhan', 32, 'gopal', 'chandhu', 'aniketh', True, 'manoj', 'varhan', 32, 'gopal', 'chandhu', 'aniketh', True, 'manoj', 'varhan', 32, 'gopal', 'chandhu', 'aniketh', True, 'manoj', 'varhan', 32)\n",
      "('sri', 'vardhan', 'vinith', 22222, 'prakash', 'raju', 'kight', 'sri', 'vardhan', 'vinith', 22222, 'prakash', 'raju', 'kight', 'sri', 'vardhan', 'vinith', 22222, 'prakash', 'raju', 'kight')\n",
      "('vasu', 'kittu', 'pranay', 'lokesh', 'shiva', 'kavya', 'khyathi', 11.32, 'bhavana', 'bhavya', 'kaal', 'gopal', 'chandhu', 'aniketh', True, 'manoj', 'varhan', 'vasu', 'kittu', 'pranay', 'lokesh', 'shiva', 'kavya', 'khyathi', 11.32, 'bhavana', 'bhavya', 'kaal', 'gopal', 'chandhu', 'aniketh', True, 'manoj', 'varhan')\n",
      "('koushik', 'lokesh', 'vamsi', 'sheshidhar', 'saiteja', 'ktm', 'suzuki', 'honda', 'shine', 'vasu', 'kittu', 'pranay', 'lokesh', 'shiva', 'kavya', 'khyathi', 11.32, 'bhavana', 'bhavya', 'kaal', 'gopal', 'chandhu', 'aniketh', True, 'manoj', 'varhan', 'koushik', 'lokesh', 'vamsi', 'sheshidhar', 'saiteja', 'ktm', 'suzuki', 'honda', 'shine', 'vasu', 'kittu', 'pranay', 'lokesh', 'shiva', 'kavya', 'khyathi', 11.32, 'bhavana', 'bhavya', 'kaal', 'gopal', 'chandhu', 'aniketh', True, 'manoj', 'varhan', 'koushik', 'lokesh', 'vamsi', 'sheshidhar', 'saiteja', 'ktm', 'suzuki', 'honda', 'shine', 'vasu', 'kittu', 'pranay', 'lokesh', 'shiva', 'kavya', 'khyathi', 11.32, 'bhavana', 'bhavya', 'kaal', 'gopal', 'chandhu', 'aniketh', True, 'manoj', 'varhan')\n",
      "('koushik', 'lokesh', 'vamsi', 'sheshidhar', 'saiteja', 'ktm', 'suzuki', 'honda', 'shine')\n",
      "('banana', 2.32, 'bikes', 453, True, False, 'apple', 2.45, 'banana', 2.32, 'bikes', 453, True, False, 'apple', 2.45, 'banana', 2.32, 'bikes', 453, True, False, 'apple', 2.45)\n",
      "(32, 32)\n",
      "('kavya', 'khyathi', 11.32, 'bhavana', 'bhavya', 'kaal', 'kavya', 'khyathi', 11.32, 'bhavana', 'bhavya', 'kaal', 'kavya', 'khyathi', 11.32, 'bhavana', 'bhavya', 'kaal')\n"
     ]
    }
   ],
   "source": [
    "#2) Repetition\n",
    "names = (\"koushik\",\"lokesh\",\"vamsi\",\"sheshidhar\",\"saiteja\")\n",
    "Bikes = (\"ktm\",\"suzuki\",\"honda\",\"shine\")\n",
    "mixed_tuple1 = (\"banana\",2.32,\"bikes\",453)\n",
    "mixed_tuple2 = (True , False , \"apple\" , 2.45)\n",
    "batch_1 = (\"vasu\",\"kittu\",\"pranay\",\"lokesh\",\"shiva\")\n",
    "batch_2 = (\"kavya\",\"khyathi\",11.32,\"bhavana\",\"bhavya\",\"kaal\")\n",
    "batch_3 = (\"gopal\",\"chandhu\",\"aniketh\",True,\"manoj\",\"varhan\")\n",
    "batch_4 = (32,)\n",
    "batch_5 = (\"sri\",\"vardhan\",\"vinith\",22222,\"prakash\",\"raju\")\n",
    "abc = (\"kight\",)\n",
    "print(names * 2)\n",
    "print(Bikes *3)\n",
    "print((batch_3 + batch_4) * 4)\n",
    "print((batch_5 + abc) * 3)\n",
    "print((batch_1 + batch_2 + batch_3) * 2)\n",
    "print((names + Bikes + batch_1 + batch_2 + batch_3) * 3)\n",
    "print((names + Bikes) * 1)\n",
    "print((mixed_tuple1 + mixed_tuple2) * 3)\n",
    "print(batch_4 * 2)\n",
    "print(batch_2 * 3)"
   ]
  },
  {
   "cell_type": "code",
   "execution_count": 126,
   "id": "0a8a3f40-89c2-4a92-ba87-4bef480b489f",
   "metadata": {},
   "outputs": [
    {
     "name": "stdout",
     "output_type": "stream",
     "text": [
      "5\n",
      "6\n",
      "0\n",
      "5\n",
      "7\n",
      "6\n",
      "0\n",
      "1\n",
      "1\n",
      "0\n",
      "2\n",
      "2\n",
      "0\n",
      "3\n",
      "7\n",
      "2\n",
      "0\n",
      "0\n",
      "3\n",
      "1\n"
     ]
    }
   ],
   "source": [
    "#Types of Methods\n",
    "#1) count()\n",
    "names = (\"koushik\",\"lokesh\",\"vamsi\",\"lokesh\",\"lokesh\",\"lokesh\",\"lokesh\",\"sheshidhar\",\"saiteja\")\n",
    "Bikes = (\"ktm\",\"suzuki\",\"honda\",\"shine\",\"honda\",\"honda\",\"honda\",\"honda\",\"honda\")\n",
    "mixed_tuple1 = (\"banana\",2.32,\"bikes\",453,2.32,2.32,2.32,2.32)\n",
    "mixed_tuple2 = (True , False , \"apple\" , 2.45, \"apple\", \"apple\", \"apple\", \"apple\")\n",
    "batch_1 = (\"vasu\",\"kittu\",\"pranay\",\"kittu\",\"kittu\",\"kittu\",\"lokesh\",\"shiva\",\"kittu\",\"kittu\",\"kittu\")\n",
    "batch_2 = (\"kavya\",\"khyathi\",11.32,\"bhavana\",\"khyathi\",\"khyathi\",\"khyathi\",\"bhavya\",\"kaal\",\"khyathi\",\"khyathi\")\n",
    "batch_3 = (\"gopal\",\"chandhu\",\"aniketh\",True,\"manoj\",\"varhan\",True,True,True)\n",
    "batch_4 = (32,)\n",
    "batch_5 = (\"sri\",\"vardhan\",\"vinith\",22222,\"prakash\",\"raju\")\n",
    "abc = (\"kigght\",)\n",
    "print(names.count(\"lokesh\"))\n",
    "print(Bikes.count(\"honda\"))\n",
    "print(mixed_tuple1.count(\"2.32\"))\n",
    "print(mixed_tuple2.count(\"apple\"))\n",
    "print(batch_1.count(\"kittu\"))\n",
    "print(batch_2.count(\"khyathi\"))\n",
    "print(batch_3.count(\"True\"))\n",
    "print(batch_4.count(32))\n",
    "print(batch_5.count(\"vinith\"))\n",
    "print(abc.count(\"abc\"))\n",
    "\n",
    "#2) index()\n",
    "names = (\"koushik\",\"lokesh\",\"vamsi\",\"lokesh\",\"lokesh\",\"lokesh\",\"lokesh\",\"sheshidhar\",\"saiteja\")\n",
    "Bikes = (\"ktm\",\"suzuki\",\"honda\",\"shine\",\"honda\",\"honda\",\"honda\",\"honda\",\"honda\")\n",
    "mixed_tuple1 = (\"banana\",2.32,\"bikes\",453,2.32,2.32,2.32,2.32)\n",
    "mixed_tuple2 = (True , False , \"apple\" , 2.45, \"apple\", \"apple\", \"apple\", \"apple\")\n",
    "batch_1 = (\"vasu\",\"kittu\",\"pranay\",\"kittu\",\"kittu\",\"kittu\",\"lokesh\",\"shiva\",\"kittu\",\"kittu\",\"kittu\")\n",
    "batch_2 = (\"kavya\",\"khyathi\",11.32,\"bhavana\",\"khyathi\",\"khyathi\",\"khyathi\",\"bhavya\",\"kaal\",\"khyathi\",\"khyathi\")\n",
    "batch_3 = (\"gopal\",\"chandhu\",\"aniketh\",True,\"manoj\",\"varhan\",True,True,True)\n",
    "batch_4 = (32,)\n",
    "batch_5 = (\"sri\",\"vardhan\",\"vinith\",22222,\"prakash\",\"raju\")\n",
    "abc = (\"kigght\",\"g\")\n",
    "print(names.index(\"vamsi\"))\n",
    "print(Bikes.index(\"honda\"))\n",
    "print(mixed_tuple1.index(\"banana\"))\n",
    "print(mixed_tuple2.index(2.45))\n",
    "print(batch_1.index(\"shiva\"))\n",
    "print(batch_2.index(11.32))\n",
    "print(batch_3.index(\"gopal\"))\n",
    "print(batch_4.index(32))\n",
    "print(batch_5.index(22222))\n",
    "print(abc.index(\"g\"))"
   ]
  },
  {
   "cell_type": "code",
   "execution_count": 136,
   "id": "f0b8e8fc-b3c9-4508-95e2-8821b7d73b72",
   "metadata": {},
   "outputs": [
    {
     "name": "stdout",
     "output_type": "stream",
     "text": [
      "9\n",
      "9\n",
      "11\n",
      "10\n"
     ]
    }
   ],
   "source": [
    "#3) len()\n",
    "names = (\"koushik\",\"lokesh\",\"vamsi\",\"lokesh\",\"lokesh\",\"lokesh\",\"lokesh\",\"sheshidhar\",\"saiteja\")\n",
    "print(len(names))\n",
    "\n",
    "Bikes = (\"ktm\",\"suzuki\",\"honda\",\"shine\",\"honda\",\"honda\",\"honda\",\"honda\",\"honda\")\n",
    "print(len(Bikes))\n",
    "\n",
    "batch_1 = (\"vasu\",\"kittu\",\"pranay\",\"kittu\",\"kittu\",\"kittu\",\"lokesh\",\"shiva\",\"kittu\",\"kittu\",\"kittu\")\n",
    "print(len(batch_1))\n",
    "\n",
    "batch_2 = (\"kavya\",\"khyathi\",11.32,\"bhavana\",\"khyathi\",\"khyathi\",\"khyathi\",\"bhavya\",\"kaal\",\"khyathi\")\n",
    "print(len(batch_2))"
   ]
  },
  {
   "cell_type": "code",
   "execution_count": 148,
   "id": "acffd140-c40c-4811-9c51-42a979e56203",
   "metadata": {},
   "outputs": [
    {
     "name": "stdout",
     "output_type": "stream",
     "text": [
      "True\n",
      "False\n",
      "True\n",
      "False\n"
     ]
    }
   ],
   "source": [
    "#4) checking (in)\n",
    "batch_1 = (\"vasu\",\"kittu\",\"pranay\",\"kittu\",\"kittu\",\"kittu\",\"lokesh\",\"shiva\",\"kittu\",\"kittu\",\"kittu\")\n",
    "print(\"kittu\" in batch_1)\n",
    "print(\"kavya\" in batch_1)\n",
    "\n",
    "\n",
    "batch_2 = (\"kavya\",\"khyathi\",11.32,\"bhavana\",\"khyathi\",\"khyathi\",\"khyathi\",\"bhavya\",\"kaal\",\"khyathi\",\"khyathi\")\n",
    "print(\"pranay\" not in batch_2)\n",
    "print(\"kavya\" not in batch_2)"
   ]
  },
  {
   "cell_type": "code",
   "execution_count": 162,
   "id": "6406eaec-cae4-4d42-80b8-308352f6d7b8",
   "metadata": {},
   "outputs": [],
   "source": [
    "#5) delete (del)\n",
    "names = (\"koushik\",\"lokesh\",\"vamsi\",\"lokesh\",\"lokesh\",\"lokesh\",\"lokesh\",\"sheshidhar\",\"saiteja\")\n",
    "del names\n",
    "\n",
    "Bikes = (\"ktm\",\"suzuki\",\"honda\",\"shine\",\"honda\",\"honda\",\"honda\",\"honda\",\"honda\")\n",
    "del Bikes"
   ]
  },
  {
   "cell_type": "code",
   "execution_count": null,
   "id": "631c0eb5-f9f9-4bd5-9969-35c161f3273a",
   "metadata": {},
   "outputs": [],
   "source": []
  }
 ],
 "metadata": {
  "kernelspec": {
   "display_name": "Python 3 (ipykernel)",
   "language": "python",
   "name": "python3"
  },
  "language_info": {
   "codemirror_mode": {
    "name": "ipython",
    "version": 3
   },
   "file_extension": ".py",
   "mimetype": "text/x-python",
   "name": "python",
   "nbconvert_exporter": "python",
   "pygments_lexer": "ipython3",
   "version": "3.12.4"
  }
 },
 "nbformat": 4,
 "nbformat_minor": 5
}
