{
 "cells": [
  {
   "cell_type": "code",
   "execution_count": 3,
   "id": "83e7f6b7-4b4f-4992-8c5e-d856fa19c45d",
   "metadata": {},
   "outputs": [
    {
     "name": "stdout",
     "output_type": "stream",
     "text": [
      "True\n",
      "False\n",
      "False\n",
      "True\n",
      "True\n"
     ]
    }
   ],
   "source": [
    "no_of_fruits = 35\n",
    "Total_persons = 20\n",
    "print(no_of_fruits > Total_persons)\n",
    "print(no_of_fruits == Total_persons)\n",
    "print(Total_persons > no_of_fruits)\n",
    "print(Total_persons != no_of_fruits)\n",
    "print(Total_persons < no_of_fruits)"
   ]
  },
  {
   "cell_type": "code",
   "execution_count": null,
   "id": "cfecf7b5-8c30-409e-9de0-4dbc1ced96b6",
   "metadata": {},
   "outputs": [],
   "source": []
  }
 ],
 "metadata": {
  "kernelspec": {
   "display_name": "Python 3 (ipykernel)",
   "language": "python",
   "name": "python3"
  },
  "language_info": {
   "codemirror_mode": {
    "name": "ipython",
    "version": 3
   },
   "file_extension": ".py",
   "mimetype": "text/x-python",
   "name": "python",
   "nbconvert_exporter": "python",
   "pygments_lexer": "ipython3",
   "version": "3.12.4"
  }
 },
 "nbformat": 4,
 "nbformat_minor": 5
}
