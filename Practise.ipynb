{
 "cells": [
  {
   "cell_type": "code",
   "execution_count": 41,
   "id": "ad07f5b3-b084-4a42-9731-fc796c3a824f",
   "metadata": {},
   "outputs": [
    {
     "name": "stdin",
     "output_type": "stream",
     "text": [
      "Enter the letter f\n"
     ]
    },
    {
     "name": "stdout",
     "output_type": "stream",
     "text": [
      "f is consonent\n"
     ]
    }
   ],
   "source": [
    "#Vowels\n",
    "Letter = input(\"Enter the letter\")\n",
    "if Letter in (\"a\",\"e\",\"i\",\"o\",\"u\",\"A\",\"E\",\"I\",\"O\",\"U\") :\n",
    "    print(Letter,\"is Vowel Letter\")\n",
    "else :\n",
    "    print(Letter,\"is consonent\")"
   ]
  },
  {
   "cell_type": "code",
   "execution_count": 57,
   "id": "08796a62-24ac-4220-b15d-8aa3a60b64d8",
   "metadata": {},
   "outputs": [
    {
     "name": "stdin",
     "output_type": "stream",
     "text": [
      "Enter a number 65\n"
     ]
    },
    {
     "name": "stdout",
     "output_type": "stream",
     "text": [
      "65 is odd\n"
     ]
    }
   ],
   "source": [
    "#Even or Odd\n",
    "num = int(input(\"Enter a number\"))\n",
    "if num % 2 == 0 :\n",
    "    print(num,\"is even\")\n",
    "else :\n",
    "    print(num,\"is odd\")         "
   ]
  },
  {
   "cell_type": "code",
   "execution_count": 1,
   "id": "f3b2862f-364f-47df-b1a8-0143d2d7c68c",
   "metadata": {},
   "outputs": [
    {
     "name": "stdin",
     "output_type": "stream",
     "text": [
      "enter the number 234\n",
      "enter the number 456\n",
      "enter the number 765\n"
     ]
    },
    {
     "name": "stdout",
     "output_type": "stream",
     "text": [
      "765 is greater among the three\n"
     ]
    }
   ],
   "source": [
    "#Greatest of three numbers\n",
    "\n",
    "num1 = int(input(\"enter the number\"))\n",
    "num2 = int(input(\"enter the number\"))\n",
    "num3 = int(input(\"enter the number\"))\n",
    "if num1 > num2 and num1 > num3 :\n",
    "    print(num1,\"is greater among the three\")\n",
    "elif num2 > num1 and num2 > num3 :\n",
    "    print(num2,\"is greater among the three\")\n",
    "else :\n",
    "    print(num3,\"is greater among the three\")"
   ]
  },
  {
   "cell_type": "code",
   "execution_count": 3,
   "id": "d82e7622-e68e-4e52-af19-26ccfa2074b5",
   "metadata": {},
   "outputs": [
    {
     "name": "stdin",
     "output_type": "stream",
     "text": [
      "enter the number 11\n",
      "enter the number 22\n",
      "enter the number 33\n"
     ]
    },
    {
     "name": "stdout",
     "output_type": "stream",
     "text": [
      "11 is smallest among the three\n"
     ]
    }
   ],
   "source": [
    "#Smallest of three numbers\n",
    "num1 = int(input(\"enter the number\"))\n",
    "num2 = int(input(\"enter the number\"))\n",
    "num3 = int(input(\"enter the number\"))\n",
    "if num1 < num2 and num1 < num3 :\n",
    "    print(num1,\"is smallest among the three\")\n",
    "elif num2 < num1 and num2 < num3 :\n",
    "    print(num2,\"is smallest among the three\")\n",
    "else :\n",
    "    print(num3,\"is smallest among the three\")"
   ]
  },
  {
   "cell_type": "code",
   "execution_count": 7,
   "id": "64d5e157-993e-4cc1-b4e0-e1c54596ebc3",
   "metadata": {},
   "outputs": [
    {
     "name": "stdin",
     "output_type": "stream",
     "text": [
      "Enter the year 2024\n"
     ]
    },
    {
     "name": "stdout",
     "output_type": "stream",
     "text": [
      "2024 is a leap year\n"
     ]
    }
   ],
   "source": [
    "#finfing leap year\n",
    "year = int(input(\"Enter the year\"))\n",
    "if year % 400 == 0 and year % 100 == 0 :\n",
    "    print(year, \"is a leap year\")\n",
    "elif year % 4 == 0 and year % 100 != 0 :\n",
    "    print(year,\"is a leap year\")\n",
    "else :\n",
    "    print(year,\"is not a leap year\")"
   ]
  },
  {
   "cell_type": "code",
   "execution_count": null,
   "id": "b37469bf-f65f-4dc9-9155-ddbee3293ba6",
   "metadata": {},
   "outputs": [],
   "source": []
  }
 ],
 "metadata": {
  "kernelspec": {
   "display_name": "Python 3 (ipykernel)",
   "language": "python",
   "name": "python3"
  },
  "language_info": {
   "codemirror_mode": {
    "name": "ipython",
    "version": 3
   },
   "file_extension": ".py",
   "mimetype": "text/x-python",
   "name": "python",
   "nbconvert_exporter": "python",
   "pygments_lexer": "ipython3",
   "version": "3.12.4"
  }
 },
 "nbformat": 4,
 "nbformat_minor": 5
}
