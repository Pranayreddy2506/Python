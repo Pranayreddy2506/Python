{
 "cells": [
  {
   "cell_type": "code",
   "execution_count": 15,
   "id": "eeb82d8e-afa9-4853-be2a-71566dded230",
   "metadata": {},
   "outputs": [
    {
     "name": "stdout",
     "output_type": "stream",
     "text": [
      "8\n",
      "-4\n",
      "12\n",
      "0.3333333333333333\n",
      "2\n",
      "64\n",
      "0\n"
     ]
    }
   ],
   "source": [
    "#1) Arthmetic Operator\n",
    "a = 2\n",
    "b = 6\n",
    "#addition\n",
    "c = a + b\n",
    "print(c)\n",
    "#subtraction\n",
    "c = a - b\n",
    "print(c)\n",
    "#multiplication\n",
    "c = a * b\n",
    "print(c)\n",
    "#division\n",
    "c = a / b\n",
    "print(c)\n",
    "#modulus\n",
    "c = a % b\n",
    "print(c)\n",
    "#exponentiation\n",
    "c = a ** b\n",
    "print(c)\n",
    "#floor division\n",
    "c = a // b\n",
    "print(c)"
   ]
  },
  {
   "cell_type": "code",
   "execution_count": 121,
   "id": "a5a4cfae-68d6-4cef-9ec1-c3739b7eed50",
   "metadata": {},
   "outputs": [
    {
     "name": "stdout",
     "output_type": "stream",
     "text": [
      "32\n",
      "8\n",
      "48\n",
      "1.4444444444444444\n",
      "1\n",
      "1\n"
     ]
    }
   ],
   "source": [
    "#ASSIGNMENT OPERATORS\n",
    "#addition assignment\n",
    "A = 18\n",
    "B = 14\n",
    "A += B\n",
    "print(A)\n",
    "#substraction assignment\n",
    "X = 10\n",
    "Y = 2\n",
    "X -= Y\n",
    "print(X)\n",
    "#multiplication assignment\n",
    "P = 12\n",
    "Q = 4\n",
    "P *= Q\n",
    "print(P)\n",
    "#division assignment\n",
    "U = 13\n",
    "V = 9\n",
    "U /= V\n",
    "print(U)\n",
    "#modulus assignment\n",
    "G = 19\n",
    "H = 6\n",
    "G %= H\n",
    "print(G)\n",
    "#floor assignment\n",
    "M = 17\n",
    "N = 13\n",
    "M //= N\n",
    "print(M)"
   ]
  },
  {
   "cell_type": "code",
   "execution_count": 145,
   "id": "fb14259c-ffaa-40a5-8c16-c028aeb97140",
   "metadata": {},
   "outputs": [
    {
     "name": "stdout",
     "output_type": "stream",
     "text": [
      "False\n",
      "True\n",
      "True\n",
      "False\n",
      "True\n",
      "False\n",
      "False\n",
      "True\n",
      "True\n",
      "True\n",
      "False\n",
      "True\n"
     ]
    }
   ],
   "source": [
    "#COMPARISION OPERATORS\n",
    "#is equal to\n",
    "x = 78\n",
    "y = 66\n",
    "z = 78\n",
    "print(x == y)\n",
    "print(x == z)\n",
    "#not equal to\n",
    "print(x != y)\n",
    "print(x != z)\n",
    "#greater than\n",
    "print(x > y)\n",
    "print(x > z)\n",
    "#less than\n",
    "print(x < y)\n",
    "print(y < x)\n",
    "#greater than or equal to\n",
    "print(x >= y)\n",
    "print(z >= x)\n",
    "#less than or equal to\n",
    "print(x <= y)\n",
    "print(y <= z)"
   ]
  },
  {
   "cell_type": "code",
   "execution_count": 159,
   "id": "521a852b-b0fa-47f1-b73e-4a88103c434c",
   "metadata": {},
   "outputs": [
    {
     "name": "stdout",
     "output_type": "stream",
     "text": [
      "False\n",
      "True\n",
      "True\n",
      "False\n",
      "False\n",
      "True\n"
     ]
    }
   ],
   "source": [
    "#LOGICAL OPERATORS\n",
    "a = 10\n",
    "b = 13\n",
    "#and operator\n",
    "print(a > b and b < a)\n",
    "print(a < b and b > a)\n",
    "#or operator\n",
    "print(a > b or b > a)\n",
    "print(a > b or b < a)\n",
    "#not operation\n",
    "print(not(a > b or b > a))\n",
    "print(not(a < b and b < a))"
   ]
  },
  {
   "cell_type": "code",
   "execution_count": 38,
   "id": "b3803acd-6048-4e40-940b-5268ced772d3",
   "metadata": {},
   "outputs": [
    {
     "name": "stdout",
     "output_type": "stream",
     "text": [
      "False\n",
      "True\n",
      "False\n",
      "True\n",
      "False\n",
      "True\n",
      "False\n"
     ]
    }
   ],
   "source": [
    "#Identity Opearators\n",
    "last_bencher = \"suresh\"\n",
    "front_bencher = \"ramesh\"\n",
    "print(last_bencher is front_bencher)\n",
    "print(last_bencher is not front_bencher)\n",
    "\n",
    "x = \"banana\",\"apple\",\"mango\"\n",
    "y = \"ramesh\",\"suresh\",\"banana\"\n",
    "print(x is y)\n",
    "print(y is not x)\n",
    "\n",
    "village = \"kittu\",\"vasu\",\"chandhu\"\n",
    "city = \"abc\",\"bcd\",\"cde\"\n",
    "town = village\n",
    "print(village is city)\n",
    "print(village is town)\n",
    "print(village is not town)"
   ]
  },
  {
   "cell_type": "code",
   "execution_count": 50,
   "id": "3d526758-7336-44ef-b6e7-94f0bfcfd742",
   "metadata": {},
   "outputs": [
    {
     "name": "stdout",
     "output_type": "stream",
     "text": [
      "True\n",
      "False\n",
      "True\n",
      "False\n",
      "False\n",
      "True\n"
     ]
    }
   ],
   "source": [
    "#Membership Operator\n",
    "class1 = 1,2,3,4,5,6\n",
    "class2 = 7,8,9,10,11\n",
    "class3 = 12,13,14,15\n",
    "print(8 in class2)\n",
    "print(2 in class2)\n",
    "print(13 in class3)\n",
    "print(3 not in class1)\n",
    "print(11 not in class2)\n",
    "print(6 not in class3)"
   ]
  },
  {
   "cell_type": "code",
   "execution_count": 3,
   "id": "2d6ca5a9-5f03-471c-86fe-c7a04192c158",
   "metadata": {},
   "outputs": [
    {
     "name": "stdout",
     "output_type": "stream",
     "text": [
      "8\n",
      "430\n",
      "1\n",
      "449\n",
      "15\n",
      "447\n",
      "335\n",
      "2015\n",
      "7\n",
      "17\n",
      "334\n",
      "1566\n"
     ]
    }
   ],
   "source": [
    "#Bitwise AND Operator\n",
    "a = 9\n",
    "b = 14\n",
    "print(a & b)\n",
    "\n",
    "c = 447\n",
    "d = 430\n",
    "print(c & d)\n",
    "\n",
    "e = 333\n",
    "f = 3\n",
    "print(e & f)\n",
    "\n",
    "g = 971\n",
    "h = 1493\n",
    "print(g & h)\n",
    "\n",
    "#Bitwise OR Operator\n",
    "a = 9\n",
    "b = 14\n",
    "print(a | b)\n",
    "\n",
    "c = 447\n",
    "d = 430\n",
    "print(c | d)\n",
    "\n",
    "e = 333\n",
    "f = 3\n",
    "print(e | f)\n",
    "\n",
    "g = 971\n",
    "h = 1493\n",
    "print(g | h)\n",
    "\n",
    "#Bitwise XOR Operator\n",
    "a = 9\n",
    "b = 14\n",
    "print(a ^ b)\n",
    "\n",
    "c = 447\n",
    "d = 430\n",
    "print(c ^ d)\n",
    "\n",
    "e = 333\n",
    "f = 3\n",
    "print(e ^ f)\n",
    "\n",
    "g = 971\n",
    "h = 1493\n",
    "print(g ^ h)"
   ]
  },
  {
   "cell_type": "code",
   "execution_count": 5,
   "id": "9603671b-5c20-4f7a-a851-4e688ee3da56",
   "metadata": {},
   "outputs": [
    {
     "name": "stdout",
     "output_type": "stream",
     "text": [
      "38256\n",
      "28764\n",
      "17179869184\n"
     ]
    }
   ],
   "source": [
    "#left shift\n",
    "a = 2391\n",
    "b = 4\n",
    "print(a << b)\n",
    "\n",
    "a = 7191\n",
    "b = 2\n",
    "print(a << b)\n",
    "\n",
    "a = 32\n",
    "b = 29\n",
    "print(a << b)"
   ]
  },
  {
   "cell_type": "code",
   "execution_count": 7,
   "id": "23d43812-a7f4-4d49-9c09-91f22f07cbcd",
   "metadata": {},
   "outputs": [
    {
     "name": "stdout",
     "output_type": "stream",
     "text": [
      "2560\n",
      "378\n",
      "0\n"
     ]
    }
   ],
   "source": [
    "#right shift\n",
    "a = 5121\n",
    "b = 1\n",
    "print(a >> b)\n",
    "\n",
    "a = 3029\n",
    "b = 3\n",
    "print(a >> b)\n",
    "\n",
    "a = 98\n",
    "b = 39\n",
    "print(a >> b)"
   ]
  },
  {
   "cell_type": "code",
   "execution_count": null,
   "id": "102adff5-4027-42b3-84f1-23df948451e7",
   "metadata": {},
   "outputs": [],
   "source": []
  }
 ],
 "metadata": {
  "kernelspec": {
   "display_name": "Python 3 (ipykernel)",
   "language": "python",
   "name": "python3"
  },
  "language_info": {
   "codemirror_mode": {
    "name": "ipython",
    "version": 3
   },
   "file_extension": ".py",
   "mimetype": "text/x-python",
   "name": "python",
   "nbconvert_exporter": "python",
   "pygments_lexer": "ipython3",
   "version": "3.12.4"
  }
 },
 "nbformat": 4,
 "nbformat_minor": 5
}
