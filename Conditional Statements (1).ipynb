{
 "cells": [
  {
   "cell_type": "code",
   "execution_count": 3,
   "id": "c4ea474d-ea31-46d8-a679-dd4f7eab3457",
   "metadata": {},
   "outputs": [
    {
     "name": "stdout",
     "output_type": "stream",
     "text": [
      "pass\n"
     ]
    }
   ],
   "source": [
    "#1) if condition :\n",
    "#executes \"if condition\" is trues otherwise skipped(no output)\n",
    "score = 30\n",
    "if score > 28 :\n",
    "    print(\"pass\")\n",
    "\n",
    "rank = 20000\n",
    "if rank > 20000 :\n",
    "    print(\"wow\")"
   ]
  },
  {
   "cell_type": "code",
   "execution_count": 7,
   "id": "aa01b330-55bb-44db-93e9-9ff92cf8f4fa",
   "metadata": {},
   "outputs": [
    {
     "name": "stdout",
     "output_type": "stream",
     "text": [
      "pass\n",
      "fail\n"
     ]
    }
   ],
   "source": [
    "#2) else\n",
    "#executes \"if condition\" is false\n",
    "score = 30\n",
    "if score > 28 :\n",
    "    print(\"pass\")\n",
    "else :\n",
    "    print(\"fail\")\n",
    "\n",
    "\n",
    "score = 26\n",
    "if score > 28 :\n",
    "    print(\"pass\")\n",
    "else :\n",
    "    print(\"fail\")"
   ]
  },
  {
   "cell_type": "code",
   "execution_count": 19,
   "id": "d2a3d4bc-0973-47c7-bc08-1753bbec2ecd",
   "metadata": {},
   "outputs": [
    {
     "name": "stdout",
     "output_type": "stream",
     "text": [
      "good\n",
      "excellent\n",
      "fail\n"
     ]
    }
   ],
   "source": [
    "#3) elif (or) else if\n",
    "#more than one condition elif will be used\n",
    "score = 30\n",
    "if score >=70 :\n",
    "    print(\"excellent\")\n",
    "elif score >= 30 :\n",
    "    print(\"good\")\n",
    "else :\n",
    "    print(\"fail\")\n",
    "\n",
    "score = 90\n",
    "if score >=70 :\n",
    "    print(\"excellent\")\n",
    "elif score >= 30 :\n",
    "    print(\"good\")\n",
    "else :\n",
    "    print(\"fail\")\n",
    "\n",
    "score = 27\n",
    "if score >=70 :\n",
    "    print(\"excellent\")\n",
    "elif score >= 30 :\n",
    "    print(\"good\")\n",
    "else :\n",
    "    print(\"fail\")"
   ]
  },
  {
   "cell_type": "code",
   "execution_count": 349,
   "id": "f0230a64-1b29-4358-8687-057ae1316011",
   "metadata": {},
   "outputs": [
    {
     "ename": "TypeError",
     "evalue": "list indices must be integers or slices, not tuple",
     "output_type": "error",
     "traceback": [
      "\u001b[1;31m---------------------------------------------------------------------------\u001b[0m",
      "\u001b[1;31mTypeError\u001b[0m                                 Traceback (most recent call last)",
      "Cell \u001b[1;32mIn[349], line 5\u001b[0m\n\u001b[0;32m      3\u001b[0m eligible_ages \u001b[38;5;241m=\u001b[39m []\n\u001b[0;32m      4\u001b[0m ineligible_ages \u001b[38;5;241m=\u001b[39m []\n\u001b[1;32m----> 5\u001b[0m \u001b[38;5;28;01mif\u001b[39;00m ages[\u001b[38;5;241m0\u001b[39m,\u001b[38;5;241m1\u001b[39m,\u001b[38;5;241m2\u001b[39m,\u001b[38;5;241m3\u001b[39m,\u001b[38;5;241m4\u001b[39m,\u001b[38;5;241m5\u001b[39m,\u001b[38;5;241m6\u001b[39m,\u001b[38;5;241m7\u001b[39m] \u001b[38;5;241m>\u001b[39m\u001b[38;5;241m=\u001b[39m \u001b[38;5;241m18\u001b[39m:\n\u001b[0;32m      6\u001b[0m     eligible_ages\u001b[38;5;241m.\u001b[39mappend(ages[\u001b[38;5;241m0\u001b[39m,\u001b[38;5;241m1\u001b[39m,\u001b[38;5;241m2\u001b[39m,\u001b[38;5;241m3\u001b[39m,\u001b[38;5;241m4\u001b[39m,\u001b[38;5;241m5\u001b[39m,\u001b[38;5;241m6\u001b[39m,\u001b[38;5;241m7\u001b[39m]) \u001b[38;5;66;03m# append method adds index value of zero to the list at last\u001b[39;00m\n\u001b[0;32m      7\u001b[0m \u001b[38;5;28;01melse\u001b[39;00m:\n",
      "\u001b[1;31mTypeError\u001b[0m: list indices must be integers or slices, not tuple"
     ]
    }
   ],
   "source": [
    "#TASK 1\n",
    "ages = [34, 5, 78, 23, 100, 91, 104, 205, 45, 1]\n",
    "eligible_ages = []\n",
    "ineligible_ages = []\n",
    "if ages[\n"
   ]
  },
  {
   "cell_type": "code",
   "execution_count": 345,
   "id": "07313060-81e1-4ca2-aca9-51455d8e760c",
   "metadata": {},
   "outputs": [
    {
     "name": "stdin",
     "output_type": "stream",
     "text": [
      "Please enter the score 56\n"
     ]
    },
    {
     "name": "stdout",
     "output_type": "stream",
     "text": [
      "Grade D\n"
     ]
    }
   ],
   "source": [
    "#TASK 2\n",
    "score = int(input(\"Please enter the score\"))\n",
    "if score <= 30  :\n",
    "    print(\"fail\")\n",
    "elif score <= 50 :\n",
    "    print(\"Grade E\")\n",
    "elif score <= 70 :\n",
    "    print(\"Grade D\")\n",
    "elif score <= 80 :\n",
    "    print(\"Grade C\")\n",
    "elif score <= 90 :\n",
    "    print(\"Grade B\")\n",
    "elif score <= 100 :\n",
    "    print(\"Grade A\")\n",
    "else :\n",
    "    print(\"invalid score\")\n",
    "    "
   ]
  },
  {
   "cell_type": "code",
   "execution_count": 275,
   "id": "469863a7-43ca-40a6-8f40-ce75c4f88652",
   "metadata": {},
   "outputs": [
    {
     "name": "stdin",
     "output_type": "stream",
     "text": [
      "WELCOME TO PRANAY RESTAURANT\n",
      "Press 1 for Veg items\n",
      "Press 2 for Non-Veg items\n",
      "Press 3 for milkshakes\n",
      "Press 4 to give rating\n",
      " 2\n"
     ]
    },
    {
     "name": "stdout",
     "output_type": "stream",
     "text": [
      "Please select the items you want:\n"
     ]
    },
    {
     "name": "stdin",
     "output_type": "stream",
     "text": [
      "1.chicken biryani , 2.mutton biryani , 3.chicken curry , 4.fish curry\n",
      " 4\n"
     ]
    },
    {
     "name": "stdout",
     "output_type": "stream",
     "text": [
      "Your item FISH CURRY is getting ready, please wait for few minutes..\n",
      "Thank you\n"
     ]
    }
   ],
   "source": [
    "#TASK 3\n",
    "#Restaurant Program\n",
    "items = int(input(\"WELCOME TO PRANAY RESTAURANT\\nPress 1 for Veg items\\nPress 2 for Non-Veg items\\nPress 3 for milkshakes\\nPress 4 to give rating\\n\"))\n",
    "\n",
    "if items == 1:\n",
    "    print(\"Please select the items you want:\")\n",
    "    vegitems = int(input(\"1.pav bhaji , 2.palak paneer , 3.veg biryani , 4.dal tadka\\n\"))\n",
    "    if vegitems == 1:\n",
    "        print(\"Your item PAV BHAJI is getting ready, please wait for few minutes..\\nThank you\")\n",
    "    elif vegitems == 2:\n",
    "        print(\"Your item PALAK PANEER is getting ready, please wait for few minutes..\\nThank you\")\n",
    "    elif vegitems == 3:\n",
    "        print(\"Your item VEG BIRYANI is getting ready, please wait for few minutes..\\nThank you\")\n",
    "    elif vegitems == 4:\n",
    "        print(\"Your item DAL TADKA is getting ready, please wait for few minutes..\\nThank you\")    \n",
    "    else :\n",
    "        print(\"sorry, wrong input\")\n",
    "elif items == 2:\n",
    "    print(\"Please select the items you want:\")\n",
    "    nonvegitems = int(input(\"1.chicken biryani , 2.mutton biryani , 3.chicken curry , 4.fish curry\\n\"))\n",
    "    if nonvegitems == 1:\n",
    "        print(\"Your item CHICKEN BIRYANI is getting ready, please wait for few minutes..\\nThank you\")\n",
    "    elif nonvegitems == 2:\n",
    "        print(\"Your item MUTTON BIRYANI is getting ready, please wait for few minutes..\\nThank you\")\n",
    "    elif nonvegitems == 3:\n",
    "        print(\"Your item CHICKEN CURRY is getting ready, please wait fr few minutes..\\nThank you\")\n",
    "    elif nonvegitems == 4:\n",
    "        print(\"Your item FISH CURRY is getting ready, please wait for few minutes..\\nThank you\")\n",
    "    else :\n",
    "        print(\"sorry, wrong input\")\n",
    "elif items == 3:\n",
    "    print(\"Please select the items:\")\n",
    "    milkshakes =int(input(\"1.Vanilla special , 2.Cool mint , 3.Strawberry , 4.Blueberry\\n\"))\n",
    "    if milkshakes == 1:\n",
    "        print(\"Your item VANILLA SPECIAL is getting ready, please wait for few minutes..\\nThank you\")\n",
    "    elif milkshakes == 2:\n",
    "        print(\"Your item COOL MINT is getting ready, please wait for few minutes..\\nThank you\")\n",
    "    elif milkshakes == 3:\n",
    "        print(\"Your item STRAWBERRY is getting ready, please wait for few minutes..\\nThank you\")\n",
    "    elif milkshakes == 4:\n",
    "        print(\"Your item BLUEBERRY is getting ready, please wait for few minutes..\\nThank you\")\n",
    "    else :\n",
    "        print(\"Sorry, you have giving wrong input\")\n",
    "elif items == 4:\n",
    "    print(\"Please enter the stars to give rating (max 5)\")\n",
    "    Rating =int(input(\"\\n\"))\n",
    "    if Rating <= 5:\n",
    "        print(\"Thanks for your rating\\nHave a good day\")\n",
    "    else :\n",
    "        print(\"It will be considered as more than five\\nThank you\\nHave a good day\")        \n",
    "else :\n",
    "    print(\"Sorry, you have given wrong input\")"
   ]
  },
  {
   "cell_type": "code",
   "execution_count": null,
   "id": "55d2279e-750d-4117-9f2d-8b3c207fa07b",
   "metadata": {},
   "outputs": [],
   "source": []
  }
 ],
 "metadata": {
  "kernelspec": {
   "display_name": "Python 3 (ipykernel)",
   "language": "python",
   "name": "python3"
  },
  "language_info": {
   "codemirror_mode": {
    "name": "ipython",
    "version": 3
   },
   "file_extension": ".py",
   "mimetype": "text/x-python",
   "name": "python",
   "nbconvert_exporter": "python",
   "pygments_lexer": "ipython3",
   "version": "3.12.4"
  }
 },
 "nbformat": 4,
 "nbformat_minor": 5
}
