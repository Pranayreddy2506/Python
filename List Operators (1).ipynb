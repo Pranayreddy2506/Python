{
 "cells": [
  {
   "cell_type": "code",
   "execution_count": 1,
   "id": "01ebf1de-4804-4631-b699-5a394c0c9184",
   "metadata": {},
   "outputs": [
    {
     "name": "stdout",
     "output_type": "stream",
     "text": [
      "[]\n"
     ]
    }
   ],
   "source": [
    "#Empty List\n",
    "my_list = []\n",
    "print(my_list)"
   ]
  },
  {
   "cell_type": "code",
   "execution_count": 1,
   "id": "13b9159c-faf5-473c-a827-fc97c642b5d3",
   "metadata": {},
   "outputs": [
    {
     "name": "stdout",
     "output_type": "stream",
     "text": [
      "11\n",
      "10\n",
      "70\n",
      "13\n",
      "vasu\n",
      "kajal\n",
      "chandhu\n",
      "bheem\n"
     ]
    }
   ],
   "source": [
    "#creating list with numbers\n",
    "list1 = [1,2,3,4,5,6,7,8,9,10]\n",
    "list2 = [11,12,13,14,14,15,16,17,18,19,20]\n",
    "list3 = [11,22,33,44,55,66,77,88,99]\n",
    "list4 = [10,20,30,40,50,60,70,80,90]\n",
    "print(list3[0])\n",
    "print(list1[-1])\n",
    "print(list4[6])\n",
    "print(list2[-9])\n",
    "\n",
    "#creating list with strings\n",
    "batch_1 = [\"vasu\",\"kittu\",\"pranay\",\"lokesh\",\"shiva\"]\n",
    "batch_2 = [\"kavya\",\"khyathi\",\"bhavana\",\"bhavya\",\"kajal\"]\n",
    "batch_3 = [\"gopal\",\"chandhu\",\"aniketh\",\"manoj\",\"vardhan\"]\n",
    "batch_4 = [\"raju\",\"ramesh\",\"suresh\",\"bheem\",\"akhil\"]\n",
    "print(batch_1[0])\n",
    "print(batch_2[-1])\n",
    "print(batch_3[-4])\n",
    "print(batch_4[3])"
   ]
  },
  {
   "cell_type": "code",
   "execution_count": 150,
   "id": "5026b3d0-2993-47de-a962-e8131c5debfd",
   "metadata": {},
   "outputs": [
    {
     "name": "stdout",
     "output_type": "stream",
     "text": [
      "[2, 3, 4, 5]\n",
      "[33, 44, 55, 66, 77, 88, 99]\n",
      "[12, 13]\n",
      "[10, 20, 30, 40, 50, 60, 70]\n",
      "['pranay', 'lokesh']\n",
      "['bhavya', 'kajal']\n",
      "['chandhu', 'aniketh', 'manoj']\n",
      "['raju', 'ramesh', 'suresh', 'bheem']\n"
     ]
    }
   ],
   "source": [
    "#Slicing (numbers)\n",
    "list1 = [1,2,3,4,5,6,7,8,9,10]\n",
    "list2 = [11,12,13,14,14,15,16,17,18,19,20]\n",
    "list3 = [11,22,33,44,55,66,77,88,99]\n",
    "list4 = [10,20,30,40,50,60,70,80,90]\n",
    "print(list1[1:5])\n",
    "print(list3[2:9])\n",
    "print(list2[1:3])\n",
    "print(list4[-9:-2])\n",
    "\n",
    "#slicing (strings)\n",
    "batch_1 = [\"vasu\",\"kittu\",\"pranay\",\"lokesh\",\"shiva\"]\n",
    "batch_2 = [\"kavya\",\"khyathi\",\"bhavana\",\"bhavya\",\"kajal\"]\n",
    "batch_3 = [\"gopal\",\"chandhu\",\"aniketh\",\"manoj\",\"vardhan\"]\n",
    "batch_4 = [\"raju\",\"ramesh\",\"suresh\",\"bheem\",\"akhil\"]\n",
    "print(batch_1[2:4])\n",
    "print(batch_2[3:5])\n",
    "print(batch_3[-4:-1])\n",
    "print(batch_4[-5:4])"
   ]
  },
  {
   "cell_type": "code",
   "execution_count": 83,
   "id": "c7f1d9c6-f933-4b81-b368-82af86e9c740",
   "metadata": {},
   "outputs": [
    {
     "name": "stdout",
     "output_type": "stream",
     "text": [
      "[1, 2, 3, 4, 5, 6, 7, 8, 9, 10, 11, 12, 13, 14, 14, 15, 16, 17, 18, 19, 20]\n",
      "[11, 22, 33, 44, 55, 66, 77, 88, 99, 10, 20, 30, 40, 50, 60, 70, 80, 90]\n",
      "['vasu', 'kittu', 'pranay', 'lokesh', 'shiva', 'kavya', 'khyathi', 'bhavana', 'bhavya', 'kajal']\n",
      "['gopal', 'chandhu', 'aniketh', 'manoj', 'vardhan', 'raju', 'ramesh', 'suresh', 'bheem', 'akhil']\n"
     ]
    }
   ],
   "source": [
    "#list Operators\n",
    "#1) Concatenation\n",
    "print(list1 + list2)\n",
    "print(list3 + list4)\n",
    "print(batch_1 + batch_2)\n",
    "print(batch_3 + batch_4)"
   ]
  },
  {
   "cell_type": "code",
   "execution_count": 99,
   "id": "2cb03b70-bf2a-462a-9457-00b935d3c122",
   "metadata": {},
   "outputs": [
    {
     "name": "stdout",
     "output_type": "stream",
     "text": [
      "[1, 2, 3, 4, 5, 6, 7, 8, 9, 10, 1, 2, 3, 4, 5, 6, 7, 8, 9, 10, 1, 2, 3, 4, 5, 6, 7, 8, 9, 10]\n",
      "[11, 12, 13, 14, 14, 15, 16, 17, 18, 19, 20, 11, 12, 13, 14, 14, 15, 16, 17, 18, 19, 20]\n",
      "[11, 22, 33, 44, 55, 66, 77, 88, 99, 11, 22, 33, 44, 55, 66, 77, 88, 99, 11, 22, 33, 44, 55, 66, 77, 88, 99, 11, 22, 33, 44, 55, 66, 77, 88, 99, 11, 22, 33, 44, 55, 66, 77, 88, 99, 11, 22, 33, 44, 55, 66, 77, 88, 99, 11, 22, 33, 44, 55, 66, 77, 88, 99]\n",
      "[]\n",
      "['vasu', 'kittu', 'pranay', 'lokesh', 'shiva', 'vasu', 'kittu', 'pranay', 'lokesh', 'shiva', 'vasu', 'kittu', 'pranay', 'lokesh', 'shiva', 'vasu', 'kittu', 'pranay', 'lokesh', 'shiva']\n",
      "['kavya', 'khyathi', 'bhavana', 'bhavya', 'kajal']\n",
      "['gopal', 'chandhu', 'aniketh', 'manoj', 'vardhan', 'gopal', 'chandhu', 'aniketh', 'manoj', 'vardhan', 'gopal', 'chandhu', 'aniketh', 'manoj', 'vardhan', 'gopal', 'chandhu', 'aniketh', 'manoj', 'vardhan', 'gopal', 'chandhu', 'aniketh', 'manoj', 'vardhan']\n",
      "['raju', 'ramesh', 'suresh', 'bheem', 'akhil', 'raju', 'ramesh', 'suresh', 'bheem', 'akhil', 'raju', 'ramesh', 'suresh', 'bheem', 'akhil', 'raju', 'ramesh', 'suresh', 'bheem', 'akhil', 'raju', 'ramesh', 'suresh', 'bheem', 'akhil', 'raju', 'ramesh', 'suresh', 'bheem', 'akhil', 'raju', 'ramesh', 'suresh', 'bheem', 'akhil', 'raju', 'ramesh', 'suresh', 'bheem', 'akhil', 'raju', 'ramesh', 'suresh', 'bheem', 'akhil', 'raju', 'ramesh', 'suresh', 'bheem', 'akhil']\n"
     ]
    }
   ],
   "source": [
    "#2) Repetition\n",
    "list1 = [1,2,3,4,5,6,7,8,9,10]\n",
    "list2 = [11,12,13,14,14,15,16,17,18,19,20]\n",
    "list3 = [11,22,33,44,55,66,77,88,99]\n",
    "list4 = [10,20,30,40,50,60,70,80,90]\n",
    "print(list1 * 3)\n",
    "print(list2 * 2)\n",
    "print(list3 * 7)\n",
    "print(list4 * 0)\n",
    "batch_1 = [\"vasu\",\"kittu\",\"pranay\",\"lokesh\",\"shiva\"]\n",
    "batch_2 = [\"kavya\",\"khyathi\",\"bhavana\",\"bhavya\",\"kajal\"]\n",
    "batch_3 = [\"gopal\",\"chandhu\",\"aniketh\",\"manoj\",\"vardhan\"]\n",
    "batch_4 = [\"raju\",\"ramesh\",\"suresh\",\"bheem\",\"akhil\"]\n",
    "print(batch_1 * 4)\n",
    "print(batch_2 * 1)\n",
    "print(batch_3 * 5)\n",
    "print(batch_4 * 10)"
   ]
  },
  {
   "cell_type": "code",
   "execution_count": 156,
   "id": "757aa62c-16c2-495c-974c-2b2a5e0d5f09",
   "metadata": {},
   "outputs": [
    {
     "name": "stdout",
     "output_type": "stream",
     "text": [
      "[1, 2, 3, 4, 5, 6, 7, 8, 9, 10, 11]\n",
      "[11, 12, 13, 14, 14, 15, 16, 17, 18, 19, 20, 21]\n",
      "['vasu', 'kittu', 'pranay', 'lokesh', 'shiva', 'mahi']\n",
      "['kavya', 'khyathi', 'bhavana', 'bhavya', 'kajal', 'sindhu']\n"
     ]
    }
   ],
   "source": [
    "#methods\n",
    "#1) append()\n",
    "list_1 = [1,2,3,4,5,6,7,8,9,10]\n",
    "list_1.append(11)\n",
    "print(list_1)\n",
    "list_2 = [11,12,13,14,14,15,16,17,18,19,20]\n",
    "list_2.append(21)\n",
    "print(list_2)\n",
    "batch_1 = [\"vasu\",\"kittu\",\"pranay\",\"lokesh\",\"shiva\"]\n",
    "batch_1.append(\"mahi\")\n",
    "print(batch_1)\n",
    "batch_2 = [\"kavya\",\"khyathi\",\"bhavana\",\"bhavya\",\"kajal\"]\n",
    "batch_2.append(\"sindhu\")\n",
    "print(batch_2)"
   ]
  },
  {
   "cell_type": "code",
   "execution_count": 154,
   "id": "4956c5f8-f119-4b06-9843-b46449ab1fe8",
   "metadata": {},
   "outputs": [
    {
     "name": "stdout",
     "output_type": "stream",
     "text": [
      "[11, 22, 33, 44, 55, 66, 77, 88, 99, 100, 101, 102]\n",
      "[10, 20, 30, 40, 50, 60, 70, 80, 90, 91, 92, 93, 94, 95]\n",
      "['gopal', 'chandhu', 'aniketh', 'manoj', 'vardhan', 'abc', 'bcd', 'def']\n",
      "['raju', 'ramesh', 'suresh', 'bheem', 'akhil', 'ABC', 'BCD', 'CDE']\n"
     ]
    }
   ],
   "source": [
    "#2)extend()\n",
    "list3 = [11,22,33,44,55,66,77,88,99]\n",
    "more_numbers = (100,101,102)\n",
    "list3.extend(more_numbers)\n",
    "print(list3)\n",
    "list4 = [10,20,30,40,50,60,70,80,90]\n",
    "more_numbers = (91,92,93,94,95)\n",
    "list4.extend(more_numbers)\n",
    "print(list4)\n",
    "batch_3 = [\"gopal\",\"chandhu\",\"aniketh\",\"manoj\",\"vardhan\"]\n",
    "more_names = (\"abc\",\"bcd\",\"def\")\n",
    "batch_3.extend(more_names)\n",
    "print(batch_3)\n",
    "batch_4 = [\"raju\",\"ramesh\",\"suresh\",\"bheem\",\"akhil\"]\n",
    "more_names = (\"ABC\",\"BCD\",\"CDE\")\n",
    "batch_4.extend(more_names)\n",
    "print(batch_4)"
   ]
  },
  {
   "cell_type": "code",
   "execution_count": 160,
   "id": "a8082175-4605-4c62-8d34-ff8628437cba",
   "metadata": {},
   "outputs": [
    {
     "name": "stdout",
     "output_type": "stream",
     "text": [
      "[1, 2, 2, 3, 4, 5, 6, 7, 8, 9, 10]\n",
      "[11, 12, 13, 14, 14, 15, 16, 17, 18, 19, 20, 16]\n",
      "[11, 22, 33, 44, 55, 66, 77, 88, 99, 40]\n",
      "[10, 20, 30, 40, 50, 60, 70, 80, 90, 32]\n"
     ]
    }
   ],
   "source": [
    "#3)Insert\n",
    "list1 = [1,2,3,4,5,6,7,8,9,10]\n",
    "list2 = [11,12,13,14,14,15,16,17,18,19,20]\n",
    "list3 = [11,22,33,44,55,66,77,88,99]\n",
    "list4 = [10,20,30,40,50,60,70,80,90]\n",
    "list1.insert(1,2)\n",
    "print(list1)\n",
    "list2.insert(15,16)\n",
    "print(list2)\n",
    "list3.insert(22,40)\n",
    "print(list3)\n",
    "list4.insert(30,32)\n",
    "print(list4)\n"
   ]
  },
  {
   "cell_type": "code",
   "execution_count": 168,
   "id": "144f9a4a-be5f-49ec-a55d-6051dc9d27ab",
   "metadata": {},
   "outputs": [
    {
     "name": "stdout",
     "output_type": "stream",
     "text": [
      "[1, 2, 3, 4, 6, 7, 8, 9, 5, 5, 10]\n",
      "[11, 12, 13, 14, 15, 16, 17, 18, 19, 20]\n",
      "['vasu', 'kittu', 'pranay', 'lokesh']\n",
      "['kavya', 'khyathi', 'bhavana', 'bhavya']\n"
     ]
    }
   ],
   "source": [
    "#4) remove\n",
    "list1 = [1,2,3,4,5,6,7,8,9,5,5,10]\n",
    "list2 = [11,12,13,14,14,15,16,17,18,19,20]\n",
    "list1.remove(5)\n",
    "print(list1)\n",
    "list2.remove(14)\n",
    "print(list2)\n",
    "batch_1 = [\"vasu\",\"kittu\",\"pranay\",\"lokesh\",\"shiva\"]\n",
    "batch_2 = [\"kavya\",\"khyathi\",\"bhavana\",\"bhavya\",\"kajal\"]\n",
    "batch_1.remove(\"shiva\")\n",
    "print(batch_1)\n",
    "batch_2.remove(\"kajal\")\n",
    "print(batch_2)\n"
   ]
  },
  {
   "cell_type": "code",
   "execution_count": 185,
   "id": "4822d9a0-6be1-473f-be65-60e9a81121cb",
   "metadata": {},
   "outputs": [
    {
     "name": "stdout",
     "output_type": "stream",
     "text": [
      "[11, 22, 44, 55, 66, 77, 88, 99]\n",
      "33\n",
      "[10, 20, 30, 40, 50, 60, 70, 90]\n",
      "80\n",
      "['gopal', 'chandhu', 'aniketh', 'manoj']\n",
      "vardhan\n",
      "['raju', 'ramesh', 'bheem', 'akhil']\n",
      "suresh\n"
     ]
    }
   ],
   "source": [
    "#5) Pop()\n",
    "list3 = [11,22,33,44,55,66,77,88,99]\n",
    "list4 = [10,20,30,40,50,60,70,80,90]\n",
    "poped_element = list3.pop(2)\n",
    "print(list3)\n",
    "print(poped_element)\n",
    "poped_element = list4.pop(7)\n",
    "print(list4)\n",
    "print(poped_element)\n",
    "\n",
    "batch_3 = [\"gopal\",\"chandhu\",\"aniketh\",\"manoj\",\"vardhan\"]\n",
    "batch_4 = [\"raju\",\"ramesh\",\"suresh\",\"bheem\",\"akhil\"]\n",
    "poped_element = batch_3.pop(4)\n",
    "print(batch_3)\n",
    "print(poped_element)\n",
    "poped_element = batch_4.pop(2)\n",
    "print(batch_4)\n",
    "print(poped_element)"
   ]
  },
  {
   "cell_type": "code",
   "execution_count": 199,
   "id": "aaaa9b60-5f06-41f9-b543-560097c7b5f2",
   "metadata": {},
   "outputs": [
    {
     "name": "stdout",
     "output_type": "stream",
     "text": [
      "6\n",
      "10\n",
      "3\n",
      "0\n"
     ]
    }
   ],
   "source": [
    "#6) Index\n",
    "list1 = [1,2,3,4,5,6,7,8,9,10]\n",
    "list2 = [11,12,13,14,14,15,16,17,18,19,20]\n",
    "index = list1.index(7)\n",
    "print(index)\n",
    "index = list2.index(20)\n",
    "print(index)\n",
    "\n",
    "batch_1 = [\"vasu\",\"kittu\",\"pranay\",\"lokesh\",\"shiva\"]\n",
    "batch_2 = [\"kavya\",\"khyathi\",\"bhavana\",\"bhavya\",\"kajal\"]\n",
    "index = batch_1.index(\"lokesh\")\n",
    "print(index)\n",
    "index = batch_2.index(\"kavya\")\n",
    "print(index)"
   ]
  },
  {
   "cell_type": "code",
   "execution_count": 215,
   "id": "be93836b-82af-47ff-8dce-9fb23f8c5cf6",
   "metadata": {},
   "outputs": [
    {
     "name": "stdout",
     "output_type": "stream",
     "text": [
      "2\n",
      "1\n",
      "3\n",
      "4\n"
     ]
    }
   ],
   "source": [
    "#7)count\n",
    "list3 = [11,22,33,44,55,11,66,77,88,99]\n",
    "list4 = [10,20,30,40,50,60,70,80,90]\n",
    "count = list3.count(11)\n",
    "print(count)\n",
    "count = list4.count(90)\n",
    "print(count)\n",
    "batch_1 = [\"vasu\",\"kittu\",\"kittu\",\"pranay\",\"lokesh\",\"kittu\",\"shiva\"]\n",
    "batch_2 = [\"kavya\",\"khyathi\",\"bhavana\",\"bhavya\",\"kajal\",\"bhavana\",\"bhavana\",\"bhavana\"]\n",
    "count = batch_1.count(\"kittu\")\n",
    "print(count)\n",
    "count = batch_2.count(\"bhavana\")\n",
    "print(count)"
   ]
  },
  {
   "cell_type": "code",
   "execution_count": 229,
   "id": "38a3ac93-4a9b-4243-a7f9-354809c33128",
   "metadata": {},
   "outputs": [
    {
     "name": "stdout",
     "output_type": "stream",
     "text": [
      "[1, 2, 3, 4, 5, 6, 7, 8, 9]\n",
      "[11, 22, 33, 44, 55, 66, 77, 88, 99]\n",
      "['kittu', 'lokesh', 'pranay', 'shiva', 'vasu']\n",
      "['bhavana', 'bhavya', 'kajal', 'kavya', 'khyathi']\n"
     ]
    }
   ],
   "source": [
    "#8) Sort\n",
    "list1 = [9,8,7,6,5,4,3,2,1]\n",
    "list1.sort()\n",
    "print(list1)\n",
    "list2 = [99,77,66,55,44,33,88,11,22]\n",
    "list2.sort()\n",
    "print(list2)\n",
    "batch_1 = [\"vasu\",\"kittu\",\"pranay\",\"lokesh\",\"shiva\"]\n",
    "batch_2 = [\"kavya\",\"khyathi\",\"bhavana\",\"bhavya\",\"kajal\"]\n",
    "batch_1.sort()\n",
    "batch_2.sort()\n",
    "print(batch_1)\n",
    "print(batch_2)"
   ]
  },
  {
   "cell_type": "code",
   "execution_count": 237,
   "id": "cf8a07f7-b9b0-4782-b18a-9878008a51b1",
   "metadata": {},
   "outputs": [
    {
     "name": "stdout",
     "output_type": "stream",
     "text": [
      "[99, 88, 77, 66, 55, 44, 33, 22, 11]\n",
      "[90, 80, 70, 60, 50, 40, 30, 20, 10]\n",
      "['vardhan', 'manoj', 'aniketh', 'chandhu', 'gopal']\n",
      "['akhil', 'bheem', 'suresh', 'ramesh', 'raju']\n"
     ]
    }
   ],
   "source": [
    "#9) reverse\n",
    "list3 = [11,22,33,44,55,66,77,88,99]\n",
    "list4 = [10,20,30,40,50,60,70,80,90]\n",
    "list3.reverse()\n",
    "print(list3)\n",
    "list4.reverse()\n",
    "print(list4)\n",
    "\n",
    "batch_3 = [\"gopal\",\"chandhu\",\"aniketh\",\"manoj\",\"vardhan\"]\n",
    "batch_4 = [\"raju\",\"ramesh\",\"suresh\",\"bheem\",\"akhil\"]\n",
    "batch_3.reverse()\n",
    "print(batch_3)\n",
    "batch_4.reverse()\n",
    "print(batch_4)"
   ]
  },
  {
   "cell_type": "code",
   "execution_count": null,
   "id": "ff1e200d-ab58-4e01-a2c3-bd6cf7e799d8",
   "metadata": {},
   "outputs": [],
   "source": []
  }
 ],
 "metadata": {
  "kernelspec": {
   "display_name": "Python 3 (ipykernel)",
   "language": "python",
   "name": "python3"
  },
  "language_info": {
   "codemirror_mode": {
    "name": "ipython",
    "version": 3
   },
   "file_extension": ".py",
   "mimetype": "text/x-python",
   "name": "python",
   "nbconvert_exporter": "python",
   "pygments_lexer": "ipython3",
   "version": "3.12.4"
  }
 },
 "nbformat": 4,
 "nbformat_minor": 5
}
